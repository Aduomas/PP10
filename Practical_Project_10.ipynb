{
  "nbformat": 4,
  "nbformat_minor": 0,
  "metadata": {
    "colab": {
      "name": "Practical Project 10.ipynb",
      "provenance": [],
      "collapsed_sections": [],
      "authorship_tag": "ABX9TyN6uIy0D0NXBvi+XlLdX3Do",
      "include_colab_link": true
    },
    "kernelspec": {
      "name": "python3",
      "display_name": "Python 3"
    },
    "language_info": {
      "name": "python"
    },
    "accelerator": "GPU",
    "widgets": {
      "application/vnd.jupyter.widget-state+json": {
        "5110cf57eeda4ca4bfd46002157d5115": {
          "model_module": "@jupyter-widgets/controls",
          "model_name": "HBoxModel",
          "model_module_version": "1.5.0",
          "state": {
            "_view_name": "HBoxView",
            "_dom_classes": [],
            "_model_name": "HBoxModel",
            "_view_module": "@jupyter-widgets/controls",
            "_model_module_version": "1.5.0",
            "_view_count": null,
            "_view_module_version": "1.5.0",
            "box_style": "",
            "layout": "IPY_MODEL_9f898215e29e4c2995927fd917b5a720",
            "_model_module": "@jupyter-widgets/controls",
            "children": [
              "IPY_MODEL_65290bc5ce7c4fbbb826f83935b812b0",
              "IPY_MODEL_b94c04bf65f248f0aa3495d6756ee77f",
              "IPY_MODEL_678df43b626446d28511102de12b600c"
            ]
          }
        },
        "9f898215e29e4c2995927fd917b5a720": {
          "model_module": "@jupyter-widgets/base",
          "model_name": "LayoutModel",
          "model_module_version": "1.2.0",
          "state": {
            "_view_name": "LayoutView",
            "grid_template_rows": null,
            "right": null,
            "justify_content": null,
            "_view_module": "@jupyter-widgets/base",
            "overflow": null,
            "_model_module_version": "1.2.0",
            "_view_count": null,
            "flex_flow": null,
            "width": null,
            "min_width": null,
            "border": null,
            "align_items": null,
            "bottom": null,
            "_model_module": "@jupyter-widgets/base",
            "top": null,
            "grid_column": null,
            "overflow_y": null,
            "overflow_x": null,
            "grid_auto_flow": null,
            "grid_area": null,
            "grid_template_columns": null,
            "flex": null,
            "_model_name": "LayoutModel",
            "justify_items": null,
            "grid_row": null,
            "max_height": null,
            "align_content": null,
            "visibility": null,
            "align_self": null,
            "height": null,
            "min_height": null,
            "padding": null,
            "grid_auto_rows": null,
            "grid_gap": null,
            "max_width": null,
            "order": null,
            "_view_module_version": "1.2.0",
            "grid_template_areas": null,
            "object_position": null,
            "object_fit": null,
            "grid_auto_columns": null,
            "margin": null,
            "display": null,
            "left": null
          }
        },
        "65290bc5ce7c4fbbb826f83935b812b0": {
          "model_module": "@jupyter-widgets/controls",
          "model_name": "HTMLModel",
          "model_module_version": "1.5.0",
          "state": {
            "_view_name": "HTMLView",
            "style": "IPY_MODEL_51207ae007b2446784fc2e6abc06828b",
            "_dom_classes": [],
            "description": "",
            "_model_name": "HTMLModel",
            "placeholder": "​",
            "_view_module": "@jupyter-widgets/controls",
            "_model_module_version": "1.5.0",
            "value": "Downloading: 100%",
            "_view_count": null,
            "_view_module_version": "1.5.0",
            "description_tooltip": null,
            "_model_module": "@jupyter-widgets/controls",
            "layout": "IPY_MODEL_1142c50269d54335b176853efe8cc49a"
          }
        },
        "b94c04bf65f248f0aa3495d6756ee77f": {
          "model_module": "@jupyter-widgets/controls",
          "model_name": "FloatProgressModel",
          "model_module_version": "1.5.0",
          "state": {
            "_view_name": "ProgressView",
            "style": "IPY_MODEL_8d52fd78b1d54b7c95901c0ac3bfba79",
            "_dom_classes": [],
            "description": "",
            "_model_name": "FloatProgressModel",
            "bar_style": "success",
            "max": 570,
            "_view_module": "@jupyter-widgets/controls",
            "_model_module_version": "1.5.0",
            "value": 570,
            "_view_count": null,
            "_view_module_version": "1.5.0",
            "orientation": "horizontal",
            "min": 0,
            "description_tooltip": null,
            "_model_module": "@jupyter-widgets/controls",
            "layout": "IPY_MODEL_73cf6c7089eb48fc909b063056b0030d"
          }
        },
        "678df43b626446d28511102de12b600c": {
          "model_module": "@jupyter-widgets/controls",
          "model_name": "HTMLModel",
          "model_module_version": "1.5.0",
          "state": {
            "_view_name": "HTMLView",
            "style": "IPY_MODEL_83ad10b5d0ad44e9ad4155e5f2e2d8a1",
            "_dom_classes": [],
            "description": "",
            "_model_name": "HTMLModel",
            "placeholder": "​",
            "_view_module": "@jupyter-widgets/controls",
            "_model_module_version": "1.5.0",
            "value": " 570/570 [00:00&lt;00:00, 4.28kB/s]",
            "_view_count": null,
            "_view_module_version": "1.5.0",
            "description_tooltip": null,
            "_model_module": "@jupyter-widgets/controls",
            "layout": "IPY_MODEL_93cea64bc42041ff869fbe324c1546cd"
          }
        },
        "51207ae007b2446784fc2e6abc06828b": {
          "model_module": "@jupyter-widgets/controls",
          "model_name": "DescriptionStyleModel",
          "model_module_version": "1.5.0",
          "state": {
            "_view_name": "StyleView",
            "_model_name": "DescriptionStyleModel",
            "description_width": "",
            "_view_module": "@jupyter-widgets/base",
            "_model_module_version": "1.5.0",
            "_view_count": null,
            "_view_module_version": "1.2.0",
            "_model_module": "@jupyter-widgets/controls"
          }
        },
        "1142c50269d54335b176853efe8cc49a": {
          "model_module": "@jupyter-widgets/base",
          "model_name": "LayoutModel",
          "model_module_version": "1.2.0",
          "state": {
            "_view_name": "LayoutView",
            "grid_template_rows": null,
            "right": null,
            "justify_content": null,
            "_view_module": "@jupyter-widgets/base",
            "overflow": null,
            "_model_module_version": "1.2.0",
            "_view_count": null,
            "flex_flow": null,
            "width": null,
            "min_width": null,
            "border": null,
            "align_items": null,
            "bottom": null,
            "_model_module": "@jupyter-widgets/base",
            "top": null,
            "grid_column": null,
            "overflow_y": null,
            "overflow_x": null,
            "grid_auto_flow": null,
            "grid_area": null,
            "grid_template_columns": null,
            "flex": null,
            "_model_name": "LayoutModel",
            "justify_items": null,
            "grid_row": null,
            "max_height": null,
            "align_content": null,
            "visibility": null,
            "align_self": null,
            "height": null,
            "min_height": null,
            "padding": null,
            "grid_auto_rows": null,
            "grid_gap": null,
            "max_width": null,
            "order": null,
            "_view_module_version": "1.2.0",
            "grid_template_areas": null,
            "object_position": null,
            "object_fit": null,
            "grid_auto_columns": null,
            "margin": null,
            "display": null,
            "left": null
          }
        },
        "8d52fd78b1d54b7c95901c0ac3bfba79": {
          "model_module": "@jupyter-widgets/controls",
          "model_name": "ProgressStyleModel",
          "model_module_version": "1.5.0",
          "state": {
            "_view_name": "StyleView",
            "_model_name": "ProgressStyleModel",
            "description_width": "",
            "_view_module": "@jupyter-widgets/base",
            "_model_module_version": "1.5.0",
            "_view_count": null,
            "_view_module_version": "1.2.0",
            "bar_color": null,
            "_model_module": "@jupyter-widgets/controls"
          }
        },
        "73cf6c7089eb48fc909b063056b0030d": {
          "model_module": "@jupyter-widgets/base",
          "model_name": "LayoutModel",
          "model_module_version": "1.2.0",
          "state": {
            "_view_name": "LayoutView",
            "grid_template_rows": null,
            "right": null,
            "justify_content": null,
            "_view_module": "@jupyter-widgets/base",
            "overflow": null,
            "_model_module_version": "1.2.0",
            "_view_count": null,
            "flex_flow": null,
            "width": null,
            "min_width": null,
            "border": null,
            "align_items": null,
            "bottom": null,
            "_model_module": "@jupyter-widgets/base",
            "top": null,
            "grid_column": null,
            "overflow_y": null,
            "overflow_x": null,
            "grid_auto_flow": null,
            "grid_area": null,
            "grid_template_columns": null,
            "flex": null,
            "_model_name": "LayoutModel",
            "justify_items": null,
            "grid_row": null,
            "max_height": null,
            "align_content": null,
            "visibility": null,
            "align_self": null,
            "height": null,
            "min_height": null,
            "padding": null,
            "grid_auto_rows": null,
            "grid_gap": null,
            "max_width": null,
            "order": null,
            "_view_module_version": "1.2.0",
            "grid_template_areas": null,
            "object_position": null,
            "object_fit": null,
            "grid_auto_columns": null,
            "margin": null,
            "display": null,
            "left": null
          }
        },
        "83ad10b5d0ad44e9ad4155e5f2e2d8a1": {
          "model_module": "@jupyter-widgets/controls",
          "model_name": "DescriptionStyleModel",
          "model_module_version": "1.5.0",
          "state": {
            "_view_name": "StyleView",
            "_model_name": "DescriptionStyleModel",
            "description_width": "",
            "_view_module": "@jupyter-widgets/base",
            "_model_module_version": "1.5.0",
            "_view_count": null,
            "_view_module_version": "1.2.0",
            "_model_module": "@jupyter-widgets/controls"
          }
        },
        "93cea64bc42041ff869fbe324c1546cd": {
          "model_module": "@jupyter-widgets/base",
          "model_name": "LayoutModel",
          "model_module_version": "1.2.0",
          "state": {
            "_view_name": "LayoutView",
            "grid_template_rows": null,
            "right": null,
            "justify_content": null,
            "_view_module": "@jupyter-widgets/base",
            "overflow": null,
            "_model_module_version": "1.2.0",
            "_view_count": null,
            "flex_flow": null,
            "width": null,
            "min_width": null,
            "border": null,
            "align_items": null,
            "bottom": null,
            "_model_module": "@jupyter-widgets/base",
            "top": null,
            "grid_column": null,
            "overflow_y": null,
            "overflow_x": null,
            "grid_auto_flow": null,
            "grid_area": null,
            "grid_template_columns": null,
            "flex": null,
            "_model_name": "LayoutModel",
            "justify_items": null,
            "grid_row": null,
            "max_height": null,
            "align_content": null,
            "visibility": null,
            "align_self": null,
            "height": null,
            "min_height": null,
            "padding": null,
            "grid_auto_rows": null,
            "grid_gap": null,
            "max_width": null,
            "order": null,
            "_view_module_version": "1.2.0",
            "grid_template_areas": null,
            "object_position": null,
            "object_fit": null,
            "grid_auto_columns": null,
            "margin": null,
            "display": null,
            "left": null
          }
        },
        "976a188fc8544c36981c1da94f719e9a": {
          "model_module": "@jupyter-widgets/controls",
          "model_name": "HBoxModel",
          "model_module_version": "1.5.0",
          "state": {
            "_view_name": "HBoxView",
            "_dom_classes": [],
            "_model_name": "HBoxModel",
            "_view_module": "@jupyter-widgets/controls",
            "_model_module_version": "1.5.0",
            "_view_count": null,
            "_view_module_version": "1.5.0",
            "box_style": "",
            "layout": "IPY_MODEL_b279a7e5e69d47b8abdd06b3fbc5357d",
            "_model_module": "@jupyter-widgets/controls",
            "children": [
              "IPY_MODEL_e911c3a21685482283f382f8f2a3ffef",
              "IPY_MODEL_cb9a733671974ca984c3474ef4b32a3f",
              "IPY_MODEL_89bab0a747ec4c0f8392cef4add163a4"
            ]
          }
        },
        "b279a7e5e69d47b8abdd06b3fbc5357d": {
          "model_module": "@jupyter-widgets/base",
          "model_name": "LayoutModel",
          "model_module_version": "1.2.0",
          "state": {
            "_view_name": "LayoutView",
            "grid_template_rows": null,
            "right": null,
            "justify_content": null,
            "_view_module": "@jupyter-widgets/base",
            "overflow": null,
            "_model_module_version": "1.2.0",
            "_view_count": null,
            "flex_flow": null,
            "width": null,
            "min_width": null,
            "border": null,
            "align_items": null,
            "bottom": null,
            "_model_module": "@jupyter-widgets/base",
            "top": null,
            "grid_column": null,
            "overflow_y": null,
            "overflow_x": null,
            "grid_auto_flow": null,
            "grid_area": null,
            "grid_template_columns": null,
            "flex": null,
            "_model_name": "LayoutModel",
            "justify_items": null,
            "grid_row": null,
            "max_height": null,
            "align_content": null,
            "visibility": null,
            "align_self": null,
            "height": null,
            "min_height": null,
            "padding": null,
            "grid_auto_rows": null,
            "grid_gap": null,
            "max_width": null,
            "order": null,
            "_view_module_version": "1.2.0",
            "grid_template_areas": null,
            "object_position": null,
            "object_fit": null,
            "grid_auto_columns": null,
            "margin": null,
            "display": null,
            "left": null
          }
        },
        "e911c3a21685482283f382f8f2a3ffef": {
          "model_module": "@jupyter-widgets/controls",
          "model_name": "HTMLModel",
          "model_module_version": "1.5.0",
          "state": {
            "_view_name": "HTMLView",
            "style": "IPY_MODEL_ba5f820c93764d888faf0e7ec174cf61",
            "_dom_classes": [],
            "description": "",
            "_model_name": "HTMLModel",
            "placeholder": "​",
            "_view_module": "@jupyter-widgets/controls",
            "_model_module_version": "1.5.0",
            "value": "Downloading: 100%",
            "_view_count": null,
            "_view_module_version": "1.5.0",
            "description_tooltip": null,
            "_model_module": "@jupyter-widgets/controls",
            "layout": "IPY_MODEL_7bdf889a8dda4ea480998d7e65b0fefa"
          }
        },
        "cb9a733671974ca984c3474ef4b32a3f": {
          "model_module": "@jupyter-widgets/controls",
          "model_name": "FloatProgressModel",
          "model_module_version": "1.5.0",
          "state": {
            "_view_name": "ProgressView",
            "style": "IPY_MODEL_0539fa30ddca49709de88057cc321139",
            "_dom_classes": [],
            "description": "",
            "_model_name": "FloatProgressModel",
            "bar_style": "success",
            "max": 536063208,
            "_view_module": "@jupyter-widgets/controls",
            "_model_module_version": "1.5.0",
            "value": 536063208,
            "_view_count": null,
            "_view_module_version": "1.5.0",
            "orientation": "horizontal",
            "min": 0,
            "description_tooltip": null,
            "_model_module": "@jupyter-widgets/controls",
            "layout": "IPY_MODEL_b318a8aa6f3c45ef909e0a8acd8401ab"
          }
        },
        "89bab0a747ec4c0f8392cef4add163a4": {
          "model_module": "@jupyter-widgets/controls",
          "model_name": "HTMLModel",
          "model_module_version": "1.5.0",
          "state": {
            "_view_name": "HTMLView",
            "style": "IPY_MODEL_209b7a18854c49dc8978f65646effd01",
            "_dom_classes": [],
            "description": "",
            "_model_name": "HTMLModel",
            "placeholder": "​",
            "_view_module": "@jupyter-widgets/controls",
            "_model_module_version": "1.5.0",
            "value": " 511M/511M [00:40&lt;00:00, 26.4MB/s]",
            "_view_count": null,
            "_view_module_version": "1.5.0",
            "description_tooltip": null,
            "_model_module": "@jupyter-widgets/controls",
            "layout": "IPY_MODEL_e6f3cc80871a4258a70174fd2ba9e1a4"
          }
        },
        "ba5f820c93764d888faf0e7ec174cf61": {
          "model_module": "@jupyter-widgets/controls",
          "model_name": "DescriptionStyleModel",
          "model_module_version": "1.5.0",
          "state": {
            "_view_name": "StyleView",
            "_model_name": "DescriptionStyleModel",
            "description_width": "",
            "_view_module": "@jupyter-widgets/base",
            "_model_module_version": "1.5.0",
            "_view_count": null,
            "_view_module_version": "1.2.0",
            "_model_module": "@jupyter-widgets/controls"
          }
        },
        "7bdf889a8dda4ea480998d7e65b0fefa": {
          "model_module": "@jupyter-widgets/base",
          "model_name": "LayoutModel",
          "model_module_version": "1.2.0",
          "state": {
            "_view_name": "LayoutView",
            "grid_template_rows": null,
            "right": null,
            "justify_content": null,
            "_view_module": "@jupyter-widgets/base",
            "overflow": null,
            "_model_module_version": "1.2.0",
            "_view_count": null,
            "flex_flow": null,
            "width": null,
            "min_width": null,
            "border": null,
            "align_items": null,
            "bottom": null,
            "_model_module": "@jupyter-widgets/base",
            "top": null,
            "grid_column": null,
            "overflow_y": null,
            "overflow_x": null,
            "grid_auto_flow": null,
            "grid_area": null,
            "grid_template_columns": null,
            "flex": null,
            "_model_name": "LayoutModel",
            "justify_items": null,
            "grid_row": null,
            "max_height": null,
            "align_content": null,
            "visibility": null,
            "align_self": null,
            "height": null,
            "min_height": null,
            "padding": null,
            "grid_auto_rows": null,
            "grid_gap": null,
            "max_width": null,
            "order": null,
            "_view_module_version": "1.2.0",
            "grid_template_areas": null,
            "object_position": null,
            "object_fit": null,
            "grid_auto_columns": null,
            "margin": null,
            "display": null,
            "left": null
          }
        },
        "0539fa30ddca49709de88057cc321139": {
          "model_module": "@jupyter-widgets/controls",
          "model_name": "ProgressStyleModel",
          "model_module_version": "1.5.0",
          "state": {
            "_view_name": "StyleView",
            "_model_name": "ProgressStyleModel",
            "description_width": "",
            "_view_module": "@jupyter-widgets/base",
            "_model_module_version": "1.5.0",
            "_view_count": null,
            "_view_module_version": "1.2.0",
            "bar_color": null,
            "_model_module": "@jupyter-widgets/controls"
          }
        },
        "b318a8aa6f3c45ef909e0a8acd8401ab": {
          "model_module": "@jupyter-widgets/base",
          "model_name": "LayoutModel",
          "model_module_version": "1.2.0",
          "state": {
            "_view_name": "LayoutView",
            "grid_template_rows": null,
            "right": null,
            "justify_content": null,
            "_view_module": "@jupyter-widgets/base",
            "overflow": null,
            "_model_module_version": "1.2.0",
            "_view_count": null,
            "flex_flow": null,
            "width": null,
            "min_width": null,
            "border": null,
            "align_items": null,
            "bottom": null,
            "_model_module": "@jupyter-widgets/base",
            "top": null,
            "grid_column": null,
            "overflow_y": null,
            "overflow_x": null,
            "grid_auto_flow": null,
            "grid_area": null,
            "grid_template_columns": null,
            "flex": null,
            "_model_name": "LayoutModel",
            "justify_items": null,
            "grid_row": null,
            "max_height": null,
            "align_content": null,
            "visibility": null,
            "align_self": null,
            "height": null,
            "min_height": null,
            "padding": null,
            "grid_auto_rows": null,
            "grid_gap": null,
            "max_width": null,
            "order": null,
            "_view_module_version": "1.2.0",
            "grid_template_areas": null,
            "object_position": null,
            "object_fit": null,
            "grid_auto_columns": null,
            "margin": null,
            "display": null,
            "left": null
          }
        },
        "209b7a18854c49dc8978f65646effd01": {
          "model_module": "@jupyter-widgets/controls",
          "model_name": "DescriptionStyleModel",
          "model_module_version": "1.5.0",
          "state": {
            "_view_name": "StyleView",
            "_model_name": "DescriptionStyleModel",
            "description_width": "",
            "_view_module": "@jupyter-widgets/base",
            "_model_module_version": "1.5.0",
            "_view_count": null,
            "_view_module_version": "1.2.0",
            "_model_module": "@jupyter-widgets/controls"
          }
        },
        "e6f3cc80871a4258a70174fd2ba9e1a4": {
          "model_module": "@jupyter-widgets/base",
          "model_name": "LayoutModel",
          "model_module_version": "1.2.0",
          "state": {
            "_view_name": "LayoutView",
            "grid_template_rows": null,
            "right": null,
            "justify_content": null,
            "_view_module": "@jupyter-widgets/base",
            "overflow": null,
            "_model_module_version": "1.2.0",
            "_view_count": null,
            "flex_flow": null,
            "width": null,
            "min_width": null,
            "border": null,
            "align_items": null,
            "bottom": null,
            "_model_module": "@jupyter-widgets/base",
            "top": null,
            "grid_column": null,
            "overflow_y": null,
            "overflow_x": null,
            "grid_auto_flow": null,
            "grid_area": null,
            "grid_template_columns": null,
            "flex": null,
            "_model_name": "LayoutModel",
            "justify_items": null,
            "grid_row": null,
            "max_height": null,
            "align_content": null,
            "visibility": null,
            "align_self": null,
            "height": null,
            "min_height": null,
            "padding": null,
            "grid_auto_rows": null,
            "grid_gap": null,
            "max_width": null,
            "order": null,
            "_view_module_version": "1.2.0",
            "grid_template_areas": null,
            "object_position": null,
            "object_fit": null,
            "grid_auto_columns": null,
            "margin": null,
            "display": null,
            "left": null
          }
        },
        "3a3077b7340d4d56a472a95f762527ee": {
          "model_module": "@jupyter-widgets/controls",
          "model_name": "HBoxModel",
          "model_module_version": "1.5.0",
          "state": {
            "_view_name": "HBoxView",
            "_dom_classes": [],
            "_model_name": "HBoxModel",
            "_view_module": "@jupyter-widgets/controls",
            "_model_module_version": "1.5.0",
            "_view_count": null,
            "_view_module_version": "1.5.0",
            "box_style": "",
            "layout": "IPY_MODEL_4f4c2687a73f4604aff959ef1f1518da",
            "_model_module": "@jupyter-widgets/controls",
            "children": [
              "IPY_MODEL_70c881a499bd4512afba797f0174b744",
              "IPY_MODEL_f04e00397d70417cb6e1fb3aea019f3b",
              "IPY_MODEL_128c5c4bd63d4bf4a2509418eeb5ecac"
            ]
          }
        },
        "4f4c2687a73f4604aff959ef1f1518da": {
          "model_module": "@jupyter-widgets/base",
          "model_name": "LayoutModel",
          "model_module_version": "1.2.0",
          "state": {
            "_view_name": "LayoutView",
            "grid_template_rows": null,
            "right": null,
            "justify_content": null,
            "_view_module": "@jupyter-widgets/base",
            "overflow": null,
            "_model_module_version": "1.2.0",
            "_view_count": null,
            "flex_flow": null,
            "width": null,
            "min_width": null,
            "border": null,
            "align_items": null,
            "bottom": null,
            "_model_module": "@jupyter-widgets/base",
            "top": null,
            "grid_column": null,
            "overflow_y": null,
            "overflow_x": null,
            "grid_auto_flow": null,
            "grid_area": null,
            "grid_template_columns": null,
            "flex": null,
            "_model_name": "LayoutModel",
            "justify_items": null,
            "grid_row": null,
            "max_height": null,
            "align_content": null,
            "visibility": null,
            "align_self": null,
            "height": null,
            "min_height": null,
            "padding": null,
            "grid_auto_rows": null,
            "grid_gap": null,
            "max_width": null,
            "order": null,
            "_view_module_version": "1.2.0",
            "grid_template_areas": null,
            "object_position": null,
            "object_fit": null,
            "grid_auto_columns": null,
            "margin": null,
            "display": null,
            "left": null
          }
        },
        "70c881a499bd4512afba797f0174b744": {
          "model_module": "@jupyter-widgets/controls",
          "model_name": "HTMLModel",
          "model_module_version": "1.5.0",
          "state": {
            "_view_name": "HTMLView",
            "style": "IPY_MODEL_1ca49fe6a3ad49cf860246f53dcccce3",
            "_dom_classes": [],
            "description": "",
            "_model_name": "HTMLModel",
            "placeholder": "​",
            "_view_module": "@jupyter-widgets/controls",
            "_model_module_version": "1.5.0",
            "value": "Downloading: 100%",
            "_view_count": null,
            "_view_module_version": "1.5.0",
            "description_tooltip": null,
            "_model_module": "@jupyter-widgets/controls",
            "layout": "IPY_MODEL_9b1210ce4d4b4ebb8c21e586bfc7cff8"
          }
        },
        "f04e00397d70417cb6e1fb3aea019f3b": {
          "model_module": "@jupyter-widgets/controls",
          "model_name": "FloatProgressModel",
          "model_module_version": "1.5.0",
          "state": {
            "_view_name": "ProgressView",
            "style": "IPY_MODEL_0006746d31274e0aa9fbd1cfffe22277",
            "_dom_classes": [],
            "description": "",
            "_model_name": "FloatProgressModel",
            "bar_style": "success",
            "max": 231508,
            "_view_module": "@jupyter-widgets/controls",
            "_model_module_version": "1.5.0",
            "value": 231508,
            "_view_count": null,
            "_view_module_version": "1.5.0",
            "orientation": "horizontal",
            "min": 0,
            "description_tooltip": null,
            "_model_module": "@jupyter-widgets/controls",
            "layout": "IPY_MODEL_7037f48133fd4ab1872028ed694fe378"
          }
        },
        "128c5c4bd63d4bf4a2509418eeb5ecac": {
          "model_module": "@jupyter-widgets/controls",
          "model_name": "HTMLModel",
          "model_module_version": "1.5.0",
          "state": {
            "_view_name": "HTMLView",
            "style": "IPY_MODEL_d62a159c4ac84aa2b809c92367db25de",
            "_dom_classes": [],
            "description": "",
            "_model_name": "HTMLModel",
            "placeholder": "​",
            "_view_module": "@jupyter-widgets/controls",
            "_model_module_version": "1.5.0",
            "value": " 226k/226k [00:00&lt;00:00, 1.13MB/s]",
            "_view_count": null,
            "_view_module_version": "1.5.0",
            "description_tooltip": null,
            "_model_module": "@jupyter-widgets/controls",
            "layout": "IPY_MODEL_259227a702e44bb8a75c9a168a40c759"
          }
        },
        "1ca49fe6a3ad49cf860246f53dcccce3": {
          "model_module": "@jupyter-widgets/controls",
          "model_name": "DescriptionStyleModel",
          "model_module_version": "1.5.0",
          "state": {
            "_view_name": "StyleView",
            "_model_name": "DescriptionStyleModel",
            "description_width": "",
            "_view_module": "@jupyter-widgets/base",
            "_model_module_version": "1.5.0",
            "_view_count": null,
            "_view_module_version": "1.2.0",
            "_model_module": "@jupyter-widgets/controls"
          }
        },
        "9b1210ce4d4b4ebb8c21e586bfc7cff8": {
          "model_module": "@jupyter-widgets/base",
          "model_name": "LayoutModel",
          "model_module_version": "1.2.0",
          "state": {
            "_view_name": "LayoutView",
            "grid_template_rows": null,
            "right": null,
            "justify_content": null,
            "_view_module": "@jupyter-widgets/base",
            "overflow": null,
            "_model_module_version": "1.2.0",
            "_view_count": null,
            "flex_flow": null,
            "width": null,
            "min_width": null,
            "border": null,
            "align_items": null,
            "bottom": null,
            "_model_module": "@jupyter-widgets/base",
            "top": null,
            "grid_column": null,
            "overflow_y": null,
            "overflow_x": null,
            "grid_auto_flow": null,
            "grid_area": null,
            "grid_template_columns": null,
            "flex": null,
            "_model_name": "LayoutModel",
            "justify_items": null,
            "grid_row": null,
            "max_height": null,
            "align_content": null,
            "visibility": null,
            "align_self": null,
            "height": null,
            "min_height": null,
            "padding": null,
            "grid_auto_rows": null,
            "grid_gap": null,
            "max_width": null,
            "order": null,
            "_view_module_version": "1.2.0",
            "grid_template_areas": null,
            "object_position": null,
            "object_fit": null,
            "grid_auto_columns": null,
            "margin": null,
            "display": null,
            "left": null
          }
        },
        "0006746d31274e0aa9fbd1cfffe22277": {
          "model_module": "@jupyter-widgets/controls",
          "model_name": "ProgressStyleModel",
          "model_module_version": "1.5.0",
          "state": {
            "_view_name": "StyleView",
            "_model_name": "ProgressStyleModel",
            "description_width": "",
            "_view_module": "@jupyter-widgets/base",
            "_model_module_version": "1.5.0",
            "_view_count": null,
            "_view_module_version": "1.2.0",
            "bar_color": null,
            "_model_module": "@jupyter-widgets/controls"
          }
        },
        "7037f48133fd4ab1872028ed694fe378": {
          "model_module": "@jupyter-widgets/base",
          "model_name": "LayoutModel",
          "model_module_version": "1.2.0",
          "state": {
            "_view_name": "LayoutView",
            "grid_template_rows": null,
            "right": null,
            "justify_content": null,
            "_view_module": "@jupyter-widgets/base",
            "overflow": null,
            "_model_module_version": "1.2.0",
            "_view_count": null,
            "flex_flow": null,
            "width": null,
            "min_width": null,
            "border": null,
            "align_items": null,
            "bottom": null,
            "_model_module": "@jupyter-widgets/base",
            "top": null,
            "grid_column": null,
            "overflow_y": null,
            "overflow_x": null,
            "grid_auto_flow": null,
            "grid_area": null,
            "grid_template_columns": null,
            "flex": null,
            "_model_name": "LayoutModel",
            "justify_items": null,
            "grid_row": null,
            "max_height": null,
            "align_content": null,
            "visibility": null,
            "align_self": null,
            "height": null,
            "min_height": null,
            "padding": null,
            "grid_auto_rows": null,
            "grid_gap": null,
            "max_width": null,
            "order": null,
            "_view_module_version": "1.2.0",
            "grid_template_areas": null,
            "object_position": null,
            "object_fit": null,
            "grid_auto_columns": null,
            "margin": null,
            "display": null,
            "left": null
          }
        },
        "d62a159c4ac84aa2b809c92367db25de": {
          "model_module": "@jupyter-widgets/controls",
          "model_name": "DescriptionStyleModel",
          "model_module_version": "1.5.0",
          "state": {
            "_view_name": "StyleView",
            "_model_name": "DescriptionStyleModel",
            "description_width": "",
            "_view_module": "@jupyter-widgets/base",
            "_model_module_version": "1.5.0",
            "_view_count": null,
            "_view_module_version": "1.2.0",
            "_model_module": "@jupyter-widgets/controls"
          }
        },
        "259227a702e44bb8a75c9a168a40c759": {
          "model_module": "@jupyter-widgets/base",
          "model_name": "LayoutModel",
          "model_module_version": "1.2.0",
          "state": {
            "_view_name": "LayoutView",
            "grid_template_rows": null,
            "right": null,
            "justify_content": null,
            "_view_module": "@jupyter-widgets/base",
            "overflow": null,
            "_model_module_version": "1.2.0",
            "_view_count": null,
            "flex_flow": null,
            "width": null,
            "min_width": null,
            "border": null,
            "align_items": null,
            "bottom": null,
            "_model_module": "@jupyter-widgets/base",
            "top": null,
            "grid_column": null,
            "overflow_y": null,
            "overflow_x": null,
            "grid_auto_flow": null,
            "grid_area": null,
            "grid_template_columns": null,
            "flex": null,
            "_model_name": "LayoutModel",
            "justify_items": null,
            "grid_row": null,
            "max_height": null,
            "align_content": null,
            "visibility": null,
            "align_self": null,
            "height": null,
            "min_height": null,
            "padding": null,
            "grid_auto_rows": null,
            "grid_gap": null,
            "max_width": null,
            "order": null,
            "_view_module_version": "1.2.0",
            "grid_template_areas": null,
            "object_position": null,
            "object_fit": null,
            "grid_auto_columns": null,
            "margin": null,
            "display": null,
            "left": null
          }
        },
        "43ef7988730f4435a470edb497e35308": {
          "model_module": "@jupyter-widgets/controls",
          "model_name": "HBoxModel",
          "model_module_version": "1.5.0",
          "state": {
            "_view_name": "HBoxView",
            "_dom_classes": [],
            "_model_name": "HBoxModel",
            "_view_module": "@jupyter-widgets/controls",
            "_model_module_version": "1.5.0",
            "_view_count": null,
            "_view_module_version": "1.5.0",
            "box_style": "",
            "layout": "IPY_MODEL_0cc4fa2ff4a5469fb22221aac43ae3db",
            "_model_module": "@jupyter-widgets/controls",
            "children": [
              "IPY_MODEL_57370dde5e8547a9b5057ae563338c50",
              "IPY_MODEL_25865761d02f40e4a2371a1c7c6dc85c",
              "IPY_MODEL_6d5675447da24692bdcfa3013cc714c6"
            ]
          }
        },
        "0cc4fa2ff4a5469fb22221aac43ae3db": {
          "model_module": "@jupyter-widgets/base",
          "model_name": "LayoutModel",
          "model_module_version": "1.2.0",
          "state": {
            "_view_name": "LayoutView",
            "grid_template_rows": null,
            "right": null,
            "justify_content": null,
            "_view_module": "@jupyter-widgets/base",
            "overflow": null,
            "_model_module_version": "1.2.0",
            "_view_count": null,
            "flex_flow": null,
            "width": null,
            "min_width": null,
            "border": null,
            "align_items": null,
            "bottom": null,
            "_model_module": "@jupyter-widgets/base",
            "top": null,
            "grid_column": null,
            "overflow_y": null,
            "overflow_x": null,
            "grid_auto_flow": null,
            "grid_area": null,
            "grid_template_columns": null,
            "flex": null,
            "_model_name": "LayoutModel",
            "justify_items": null,
            "grid_row": null,
            "max_height": null,
            "align_content": null,
            "visibility": null,
            "align_self": null,
            "height": null,
            "min_height": null,
            "padding": null,
            "grid_auto_rows": null,
            "grid_gap": null,
            "max_width": null,
            "order": null,
            "_view_module_version": "1.2.0",
            "grid_template_areas": null,
            "object_position": null,
            "object_fit": null,
            "grid_auto_columns": null,
            "margin": null,
            "display": null,
            "left": null
          }
        },
        "57370dde5e8547a9b5057ae563338c50": {
          "model_module": "@jupyter-widgets/controls",
          "model_name": "HTMLModel",
          "model_module_version": "1.5.0",
          "state": {
            "_view_name": "HTMLView",
            "style": "IPY_MODEL_7ce4ee3e8a834f8b865ff9eaf5936d7d",
            "_dom_classes": [],
            "description": "",
            "_model_name": "HTMLModel",
            "placeholder": "​",
            "_view_module": "@jupyter-widgets/controls",
            "_model_module_version": "1.5.0",
            "value": "Downloading: 100%",
            "_view_count": null,
            "_view_module_version": "1.5.0",
            "description_tooltip": null,
            "_model_module": "@jupyter-widgets/controls",
            "layout": "IPY_MODEL_4b2914c622b347088b1c20f32a57b484"
          }
        },
        "25865761d02f40e4a2371a1c7c6dc85c": {
          "model_module": "@jupyter-widgets/controls",
          "model_name": "FloatProgressModel",
          "model_module_version": "1.5.0",
          "state": {
            "_view_name": "ProgressView",
            "style": "IPY_MODEL_201268a782b34f5a85aad02d15446254",
            "_dom_classes": [],
            "description": "",
            "_model_name": "FloatProgressModel",
            "bar_style": "success",
            "max": 28,
            "_view_module": "@jupyter-widgets/controls",
            "_model_module_version": "1.5.0",
            "value": 28,
            "_view_count": null,
            "_view_module_version": "1.5.0",
            "orientation": "horizontal",
            "min": 0,
            "description_tooltip": null,
            "_model_module": "@jupyter-widgets/controls",
            "layout": "IPY_MODEL_1ea27bcd2e0f4ba0bf591f63285d3c4d"
          }
        },
        "6d5675447da24692bdcfa3013cc714c6": {
          "model_module": "@jupyter-widgets/controls",
          "model_name": "HTMLModel",
          "model_module_version": "1.5.0",
          "state": {
            "_view_name": "HTMLView",
            "style": "IPY_MODEL_1f3275991c7447a7a6423ba6456fdf2c",
            "_dom_classes": [],
            "description": "",
            "_model_name": "HTMLModel",
            "placeholder": "​",
            "_view_module": "@jupyter-widgets/controls",
            "_model_module_version": "1.5.0",
            "value": " 28.0/28.0 [00:00&lt;00:00, 729B/s]",
            "_view_count": null,
            "_view_module_version": "1.5.0",
            "description_tooltip": null,
            "_model_module": "@jupyter-widgets/controls",
            "layout": "IPY_MODEL_26ecf39e0c2e4f10b8723e339dc9f376"
          }
        },
        "7ce4ee3e8a834f8b865ff9eaf5936d7d": {
          "model_module": "@jupyter-widgets/controls",
          "model_name": "DescriptionStyleModel",
          "model_module_version": "1.5.0",
          "state": {
            "_view_name": "StyleView",
            "_model_name": "DescriptionStyleModel",
            "description_width": "",
            "_view_module": "@jupyter-widgets/base",
            "_model_module_version": "1.5.0",
            "_view_count": null,
            "_view_module_version": "1.2.0",
            "_model_module": "@jupyter-widgets/controls"
          }
        },
        "4b2914c622b347088b1c20f32a57b484": {
          "model_module": "@jupyter-widgets/base",
          "model_name": "LayoutModel",
          "model_module_version": "1.2.0",
          "state": {
            "_view_name": "LayoutView",
            "grid_template_rows": null,
            "right": null,
            "justify_content": null,
            "_view_module": "@jupyter-widgets/base",
            "overflow": null,
            "_model_module_version": "1.2.0",
            "_view_count": null,
            "flex_flow": null,
            "width": null,
            "min_width": null,
            "border": null,
            "align_items": null,
            "bottom": null,
            "_model_module": "@jupyter-widgets/base",
            "top": null,
            "grid_column": null,
            "overflow_y": null,
            "overflow_x": null,
            "grid_auto_flow": null,
            "grid_area": null,
            "grid_template_columns": null,
            "flex": null,
            "_model_name": "LayoutModel",
            "justify_items": null,
            "grid_row": null,
            "max_height": null,
            "align_content": null,
            "visibility": null,
            "align_self": null,
            "height": null,
            "min_height": null,
            "padding": null,
            "grid_auto_rows": null,
            "grid_gap": null,
            "max_width": null,
            "order": null,
            "_view_module_version": "1.2.0",
            "grid_template_areas": null,
            "object_position": null,
            "object_fit": null,
            "grid_auto_columns": null,
            "margin": null,
            "display": null,
            "left": null
          }
        },
        "201268a782b34f5a85aad02d15446254": {
          "model_module": "@jupyter-widgets/controls",
          "model_name": "ProgressStyleModel",
          "model_module_version": "1.5.0",
          "state": {
            "_view_name": "StyleView",
            "_model_name": "ProgressStyleModel",
            "description_width": "",
            "_view_module": "@jupyter-widgets/base",
            "_model_module_version": "1.5.0",
            "_view_count": null,
            "_view_module_version": "1.2.0",
            "bar_color": null,
            "_model_module": "@jupyter-widgets/controls"
          }
        },
        "1ea27bcd2e0f4ba0bf591f63285d3c4d": {
          "model_module": "@jupyter-widgets/base",
          "model_name": "LayoutModel",
          "model_module_version": "1.2.0",
          "state": {
            "_view_name": "LayoutView",
            "grid_template_rows": null,
            "right": null,
            "justify_content": null,
            "_view_module": "@jupyter-widgets/base",
            "overflow": null,
            "_model_module_version": "1.2.0",
            "_view_count": null,
            "flex_flow": null,
            "width": null,
            "min_width": null,
            "border": null,
            "align_items": null,
            "bottom": null,
            "_model_module": "@jupyter-widgets/base",
            "top": null,
            "grid_column": null,
            "overflow_y": null,
            "overflow_x": null,
            "grid_auto_flow": null,
            "grid_area": null,
            "grid_template_columns": null,
            "flex": null,
            "_model_name": "LayoutModel",
            "justify_items": null,
            "grid_row": null,
            "max_height": null,
            "align_content": null,
            "visibility": null,
            "align_self": null,
            "height": null,
            "min_height": null,
            "padding": null,
            "grid_auto_rows": null,
            "grid_gap": null,
            "max_width": null,
            "order": null,
            "_view_module_version": "1.2.0",
            "grid_template_areas": null,
            "object_position": null,
            "object_fit": null,
            "grid_auto_columns": null,
            "margin": null,
            "display": null,
            "left": null
          }
        },
        "1f3275991c7447a7a6423ba6456fdf2c": {
          "model_module": "@jupyter-widgets/controls",
          "model_name": "DescriptionStyleModel",
          "model_module_version": "1.5.0",
          "state": {
            "_view_name": "StyleView",
            "_model_name": "DescriptionStyleModel",
            "description_width": "",
            "_view_module": "@jupyter-widgets/base",
            "_model_module_version": "1.5.0",
            "_view_count": null,
            "_view_module_version": "1.2.0",
            "_model_module": "@jupyter-widgets/controls"
          }
        },
        "26ecf39e0c2e4f10b8723e339dc9f376": {
          "model_module": "@jupyter-widgets/base",
          "model_name": "LayoutModel",
          "model_module_version": "1.2.0",
          "state": {
            "_view_name": "LayoutView",
            "grid_template_rows": null,
            "right": null,
            "justify_content": null,
            "_view_module": "@jupyter-widgets/base",
            "overflow": null,
            "_model_module_version": "1.2.0",
            "_view_count": null,
            "flex_flow": null,
            "width": null,
            "min_width": null,
            "border": null,
            "align_items": null,
            "bottom": null,
            "_model_module": "@jupyter-widgets/base",
            "top": null,
            "grid_column": null,
            "overflow_y": null,
            "overflow_x": null,
            "grid_auto_flow": null,
            "grid_area": null,
            "grid_template_columns": null,
            "flex": null,
            "_model_name": "LayoutModel",
            "justify_items": null,
            "grid_row": null,
            "max_height": null,
            "align_content": null,
            "visibility": null,
            "align_self": null,
            "height": null,
            "min_height": null,
            "padding": null,
            "grid_auto_rows": null,
            "grid_gap": null,
            "max_width": null,
            "order": null,
            "_view_module_version": "1.2.0",
            "grid_template_areas": null,
            "object_position": null,
            "object_fit": null,
            "grid_auto_columns": null,
            "margin": null,
            "display": null,
            "left": null
          }
        },
        "720e8914d9114dcca99b65843756e2a1": {
          "model_module": "@jupyter-widgets/controls",
          "model_name": "HBoxModel",
          "model_module_version": "1.5.0",
          "state": {
            "_view_name": "HBoxView",
            "_dom_classes": [],
            "_model_name": "HBoxModel",
            "_view_module": "@jupyter-widgets/controls",
            "_model_module_version": "1.5.0",
            "_view_count": null,
            "_view_module_version": "1.5.0",
            "box_style": "",
            "layout": "IPY_MODEL_698dbbddddba4d5e8fc629be1599dee0",
            "_model_module": "@jupyter-widgets/controls",
            "children": [
              "IPY_MODEL_33b9c47624144a4f884aaf0c6d9fea46",
              "IPY_MODEL_7c8396cfef664bb08a2913d012e7e9a3",
              "IPY_MODEL_dccef85c6f984db896abb69d7e75b153"
            ]
          }
        },
        "698dbbddddba4d5e8fc629be1599dee0": {
          "model_module": "@jupyter-widgets/base",
          "model_name": "LayoutModel",
          "model_module_version": "1.2.0",
          "state": {
            "_view_name": "LayoutView",
            "grid_template_rows": null,
            "right": null,
            "justify_content": null,
            "_view_module": "@jupyter-widgets/base",
            "overflow": null,
            "_model_module_version": "1.2.0",
            "_view_count": null,
            "flex_flow": null,
            "width": null,
            "min_width": null,
            "border": null,
            "align_items": null,
            "bottom": null,
            "_model_module": "@jupyter-widgets/base",
            "top": null,
            "grid_column": null,
            "overflow_y": null,
            "overflow_x": null,
            "grid_auto_flow": null,
            "grid_area": null,
            "grid_template_columns": null,
            "flex": null,
            "_model_name": "LayoutModel",
            "justify_items": null,
            "grid_row": null,
            "max_height": null,
            "align_content": null,
            "visibility": null,
            "align_self": null,
            "height": null,
            "min_height": null,
            "padding": null,
            "grid_auto_rows": null,
            "grid_gap": null,
            "max_width": null,
            "order": null,
            "_view_module_version": "1.2.0",
            "grid_template_areas": null,
            "object_position": null,
            "object_fit": null,
            "grid_auto_columns": null,
            "margin": null,
            "display": null,
            "left": null
          }
        },
        "33b9c47624144a4f884aaf0c6d9fea46": {
          "model_module": "@jupyter-widgets/controls",
          "model_name": "HTMLModel",
          "model_module_version": "1.5.0",
          "state": {
            "_view_name": "HTMLView",
            "style": "IPY_MODEL_b144e81bfb954c528227f761d0de5fbb",
            "_dom_classes": [],
            "description": "",
            "_model_name": "HTMLModel",
            "placeholder": "​",
            "_view_module": "@jupyter-widgets/controls",
            "_model_module_version": "1.5.0",
            "value": "Downloading: 100%",
            "_view_count": null,
            "_view_module_version": "1.5.0",
            "description_tooltip": null,
            "_model_module": "@jupyter-widgets/controls",
            "layout": "IPY_MODEL_a0c7093fa44e4dbfa6e0eab0ebdbbf58"
          }
        },
        "7c8396cfef664bb08a2913d012e7e9a3": {
          "model_module": "@jupyter-widgets/controls",
          "model_name": "FloatProgressModel",
          "model_module_version": "1.5.0",
          "state": {
            "_view_name": "ProgressView",
            "style": "IPY_MODEL_fc0355d67aaa4d4ab0eaeb70eaf33b83",
            "_dom_classes": [],
            "description": "",
            "_model_name": "FloatProgressModel",
            "bar_style": "success",
            "max": 466062,
            "_view_module": "@jupyter-widgets/controls",
            "_model_module_version": "1.5.0",
            "value": 466062,
            "_view_count": null,
            "_view_module_version": "1.5.0",
            "orientation": "horizontal",
            "min": 0,
            "description_tooltip": null,
            "_model_module": "@jupyter-widgets/controls",
            "layout": "IPY_MODEL_aa8fac4a4ade4177a810c8d7e7294ad1"
          }
        },
        "dccef85c6f984db896abb69d7e75b153": {
          "model_module": "@jupyter-widgets/controls",
          "model_name": "HTMLModel",
          "model_module_version": "1.5.0",
          "state": {
            "_view_name": "HTMLView",
            "style": "IPY_MODEL_e6924ab9489b41aca14c286c456c4e43",
            "_dom_classes": [],
            "description": "",
            "_model_name": "HTMLModel",
            "placeholder": "​",
            "_view_module": "@jupyter-widgets/controls",
            "_model_module_version": "1.5.0",
            "value": " 455k/455k [00:00&lt;00:00, 1.51MB/s]",
            "_view_count": null,
            "_view_module_version": "1.5.0",
            "description_tooltip": null,
            "_model_module": "@jupyter-widgets/controls",
            "layout": "IPY_MODEL_18e7678daf3e4394a3e01adab47f9a83"
          }
        },
        "b144e81bfb954c528227f761d0de5fbb": {
          "model_module": "@jupyter-widgets/controls",
          "model_name": "DescriptionStyleModel",
          "model_module_version": "1.5.0",
          "state": {
            "_view_name": "StyleView",
            "_model_name": "DescriptionStyleModel",
            "description_width": "",
            "_view_module": "@jupyter-widgets/base",
            "_model_module_version": "1.5.0",
            "_view_count": null,
            "_view_module_version": "1.2.0",
            "_model_module": "@jupyter-widgets/controls"
          }
        },
        "a0c7093fa44e4dbfa6e0eab0ebdbbf58": {
          "model_module": "@jupyter-widgets/base",
          "model_name": "LayoutModel",
          "model_module_version": "1.2.0",
          "state": {
            "_view_name": "LayoutView",
            "grid_template_rows": null,
            "right": null,
            "justify_content": null,
            "_view_module": "@jupyter-widgets/base",
            "overflow": null,
            "_model_module_version": "1.2.0",
            "_view_count": null,
            "flex_flow": null,
            "width": null,
            "min_width": null,
            "border": null,
            "align_items": null,
            "bottom": null,
            "_model_module": "@jupyter-widgets/base",
            "top": null,
            "grid_column": null,
            "overflow_y": null,
            "overflow_x": null,
            "grid_auto_flow": null,
            "grid_area": null,
            "grid_template_columns": null,
            "flex": null,
            "_model_name": "LayoutModel",
            "justify_items": null,
            "grid_row": null,
            "max_height": null,
            "align_content": null,
            "visibility": null,
            "align_self": null,
            "height": null,
            "min_height": null,
            "padding": null,
            "grid_auto_rows": null,
            "grid_gap": null,
            "max_width": null,
            "order": null,
            "_view_module_version": "1.2.0",
            "grid_template_areas": null,
            "object_position": null,
            "object_fit": null,
            "grid_auto_columns": null,
            "margin": null,
            "display": null,
            "left": null
          }
        },
        "fc0355d67aaa4d4ab0eaeb70eaf33b83": {
          "model_module": "@jupyter-widgets/controls",
          "model_name": "ProgressStyleModel",
          "model_module_version": "1.5.0",
          "state": {
            "_view_name": "StyleView",
            "_model_name": "ProgressStyleModel",
            "description_width": "",
            "_view_module": "@jupyter-widgets/base",
            "_model_module_version": "1.5.0",
            "_view_count": null,
            "_view_module_version": "1.2.0",
            "bar_color": null,
            "_model_module": "@jupyter-widgets/controls"
          }
        },
        "aa8fac4a4ade4177a810c8d7e7294ad1": {
          "model_module": "@jupyter-widgets/base",
          "model_name": "LayoutModel",
          "model_module_version": "1.2.0",
          "state": {
            "_view_name": "LayoutView",
            "grid_template_rows": null,
            "right": null,
            "justify_content": null,
            "_view_module": "@jupyter-widgets/base",
            "overflow": null,
            "_model_module_version": "1.2.0",
            "_view_count": null,
            "flex_flow": null,
            "width": null,
            "min_width": null,
            "border": null,
            "align_items": null,
            "bottom": null,
            "_model_module": "@jupyter-widgets/base",
            "top": null,
            "grid_column": null,
            "overflow_y": null,
            "overflow_x": null,
            "grid_auto_flow": null,
            "grid_area": null,
            "grid_template_columns": null,
            "flex": null,
            "_model_name": "LayoutModel",
            "justify_items": null,
            "grid_row": null,
            "max_height": null,
            "align_content": null,
            "visibility": null,
            "align_self": null,
            "height": null,
            "min_height": null,
            "padding": null,
            "grid_auto_rows": null,
            "grid_gap": null,
            "max_width": null,
            "order": null,
            "_view_module_version": "1.2.0",
            "grid_template_areas": null,
            "object_position": null,
            "object_fit": null,
            "grid_auto_columns": null,
            "margin": null,
            "display": null,
            "left": null
          }
        },
        "e6924ab9489b41aca14c286c456c4e43": {
          "model_module": "@jupyter-widgets/controls",
          "model_name": "DescriptionStyleModel",
          "model_module_version": "1.5.0",
          "state": {
            "_view_name": "StyleView",
            "_model_name": "DescriptionStyleModel",
            "description_width": "",
            "_view_module": "@jupyter-widgets/base",
            "_model_module_version": "1.5.0",
            "_view_count": null,
            "_view_module_version": "1.2.0",
            "_model_module": "@jupyter-widgets/controls"
          }
        },
        "18e7678daf3e4394a3e01adab47f9a83": {
          "model_module": "@jupyter-widgets/base",
          "model_name": "LayoutModel",
          "model_module_version": "1.2.0",
          "state": {
            "_view_name": "LayoutView",
            "grid_template_rows": null,
            "right": null,
            "justify_content": null,
            "_view_module": "@jupyter-widgets/base",
            "overflow": null,
            "_model_module_version": "1.2.0",
            "_view_count": null,
            "flex_flow": null,
            "width": null,
            "min_width": null,
            "border": null,
            "align_items": null,
            "bottom": null,
            "_model_module": "@jupyter-widgets/base",
            "top": null,
            "grid_column": null,
            "overflow_y": null,
            "overflow_x": null,
            "grid_auto_flow": null,
            "grid_area": null,
            "grid_template_columns": null,
            "flex": null,
            "_model_name": "LayoutModel",
            "justify_items": null,
            "grid_row": null,
            "max_height": null,
            "align_content": null,
            "visibility": null,
            "align_self": null,
            "height": null,
            "min_height": null,
            "padding": null,
            "grid_auto_rows": null,
            "grid_gap": null,
            "max_width": null,
            "order": null,
            "_view_module_version": "1.2.0",
            "grid_template_areas": null,
            "object_position": null,
            "object_fit": null,
            "grid_auto_columns": null,
            "margin": null,
            "display": null,
            "left": null
          }
        }
      }
    }
  },
  "cells": [
    {
      "cell_type": "markdown",
      "metadata": {
        "id": "view-in-github",
        "colab_type": "text"
      },
      "source": [
        "<a href=\"https://colab.research.google.com/github/Aduomas/PP10/blob/main/Practical_Project_10.ipynb\" target=\"_parent\"><img src=\"https://colab.research.google.com/assets/colab-badge.svg\" alt=\"Open In Colab\"/></a>"
      ]
    },
    {
      "cell_type": "markdown",
      "source": [
        "![image.png](data:image/png;base64,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)"
      ],
      "metadata": {
        "id": "XysxrFB1-hbQ"
      }
    },
    {
      "cell_type": "markdown",
      "source": [
        "## Installing transformers and loading up BERT Sequence Classification model"
      ],
      "metadata": {
        "id": "CVuMugqAOSuk"
      }
    },
    {
      "cell_type": "code",
      "execution_count": 1,
      "metadata": {
        "colab": {
          "base_uri": "https://localhost:8080/"
        },
        "id": "QSY8tMVX-eHQ",
        "outputId": "6613c32d-aba0-44c0-db9e-2f3210920082"
      },
      "outputs": [
        {
          "output_type": "stream",
          "name": "stdout",
          "text": [
            "Collecting transformers\n",
            "  Downloading transformers-4.15.0-py3-none-any.whl (3.4 MB)\n",
            "\u001b[K     |████████████████████████████████| 3.4 MB 5.5 MB/s \n",
            "\u001b[?25hRequirement already satisfied: packaging>=20.0 in /usr/local/lib/python3.7/dist-packages (from transformers) (21.3)\n",
            "Collecting tokenizers<0.11,>=0.10.1\n",
            "  Downloading tokenizers-0.10.3-cp37-cp37m-manylinux_2_5_x86_64.manylinux1_x86_64.manylinux_2_12_x86_64.manylinux2010_x86_64.whl (3.3 MB)\n",
            "\u001b[K     |████████████████████████████████| 3.3 MB 33.6 MB/s \n",
            "\u001b[?25hCollecting sacremoses\n",
            "  Downloading sacremoses-0.0.47-py2.py3-none-any.whl (895 kB)\n",
            "\u001b[K     |████████████████████████████████| 895 kB 32.5 MB/s \n",
            "\u001b[?25hRequirement already satisfied: importlib-metadata in /usr/local/lib/python3.7/dist-packages (from transformers) (4.10.1)\n",
            "Requirement already satisfied: filelock in /usr/local/lib/python3.7/dist-packages (from transformers) (3.4.2)\n",
            "Requirement already satisfied: requests in /usr/local/lib/python3.7/dist-packages (from transformers) (2.23.0)\n",
            "Collecting huggingface-hub<1.0,>=0.1.0\n",
            "  Downloading huggingface_hub-0.4.0-py3-none-any.whl (67 kB)\n",
            "\u001b[K     |████████████████████████████████| 67 kB 3.3 MB/s \n",
            "\u001b[?25hCollecting pyyaml>=5.1\n",
            "  Downloading PyYAML-6.0-cp37-cp37m-manylinux_2_5_x86_64.manylinux1_x86_64.manylinux_2_12_x86_64.manylinux2010_x86_64.whl (596 kB)\n",
            "\u001b[K     |████████████████████████████████| 596 kB 34.6 MB/s \n",
            "\u001b[?25hRequirement already satisfied: regex!=2019.12.17 in /usr/local/lib/python3.7/dist-packages (from transformers) (2019.12.20)\n",
            "Requirement already satisfied: numpy>=1.17 in /usr/local/lib/python3.7/dist-packages (from transformers) (1.19.5)\n",
            "Requirement already satisfied: tqdm>=4.27 in /usr/local/lib/python3.7/dist-packages (from transformers) (4.62.3)\n",
            "Requirement already satisfied: typing-extensions>=3.7.4.3 in /usr/local/lib/python3.7/dist-packages (from huggingface-hub<1.0,>=0.1.0->transformers) (3.10.0.2)\n",
            "Requirement already satisfied: pyparsing!=3.0.5,>=2.0.2 in /usr/local/lib/python3.7/dist-packages (from packaging>=20.0->transformers) (3.0.7)\n",
            "Requirement already satisfied: zipp>=0.5 in /usr/local/lib/python3.7/dist-packages (from importlib-metadata->transformers) (3.7.0)\n",
            "Requirement already satisfied: idna<3,>=2.5 in /usr/local/lib/python3.7/dist-packages (from requests->transformers) (2.10)\n",
            "Requirement already satisfied: chardet<4,>=3.0.2 in /usr/local/lib/python3.7/dist-packages (from requests->transformers) (3.0.4)\n",
            "Requirement already satisfied: urllib3!=1.25.0,!=1.25.1,<1.26,>=1.21.1 in /usr/local/lib/python3.7/dist-packages (from requests->transformers) (1.24.3)\n",
            "Requirement already satisfied: certifi>=2017.4.17 in /usr/local/lib/python3.7/dist-packages (from requests->transformers) (2021.10.8)\n",
            "Requirement already satisfied: joblib in /usr/local/lib/python3.7/dist-packages (from sacremoses->transformers) (1.1.0)\n",
            "Requirement already satisfied: click in /usr/local/lib/python3.7/dist-packages (from sacremoses->transformers) (7.1.2)\n",
            "Requirement already satisfied: six in /usr/local/lib/python3.7/dist-packages (from sacremoses->transformers) (1.15.0)\n",
            "Installing collected packages: pyyaml, tokenizers, sacremoses, huggingface-hub, transformers\n",
            "  Attempting uninstall: pyyaml\n",
            "    Found existing installation: PyYAML 3.13\n",
            "    Uninstalling PyYAML-3.13:\n",
            "      Successfully uninstalled PyYAML-3.13\n",
            "Successfully installed huggingface-hub-0.4.0 pyyaml-6.0 sacremoses-0.0.47 tokenizers-0.10.3 transformers-4.15.0\n"
          ]
        }
      ],
      "source": [
        "!pip install transformers"
      ]
    },
    {
      "cell_type": "code",
      "source": [
        "from transformers import BertTokenizer, TFBertForSequenceClassification\n",
        "from transformers import InputExample, InputFeatures\n",
        "\n",
        "model = TFBertForSequenceClassification.from_pretrained(\"bert-base-uncased\")\n",
        "tokenizer = BertTokenizer.from_pretrained(\"bert-base-uncased\")"
      ],
      "metadata": {
        "colab": {
          "base_uri": "https://localhost:8080/",
          "height": 246,
          "referenced_widgets": [
            "5110cf57eeda4ca4bfd46002157d5115",
            "9f898215e29e4c2995927fd917b5a720",
            "65290bc5ce7c4fbbb826f83935b812b0",
            "b94c04bf65f248f0aa3495d6756ee77f",
            "678df43b626446d28511102de12b600c",
            "51207ae007b2446784fc2e6abc06828b",
            "1142c50269d54335b176853efe8cc49a",
            "8d52fd78b1d54b7c95901c0ac3bfba79",
            "73cf6c7089eb48fc909b063056b0030d",
            "83ad10b5d0ad44e9ad4155e5f2e2d8a1",
            "93cea64bc42041ff869fbe324c1546cd",
            "976a188fc8544c36981c1da94f719e9a",
            "b279a7e5e69d47b8abdd06b3fbc5357d",
            "e911c3a21685482283f382f8f2a3ffef",
            "cb9a733671974ca984c3474ef4b32a3f",
            "89bab0a747ec4c0f8392cef4add163a4",
            "ba5f820c93764d888faf0e7ec174cf61",
            "7bdf889a8dda4ea480998d7e65b0fefa",
            "0539fa30ddca49709de88057cc321139",
            "b318a8aa6f3c45ef909e0a8acd8401ab",
            "209b7a18854c49dc8978f65646effd01",
            "e6f3cc80871a4258a70174fd2ba9e1a4",
            "3a3077b7340d4d56a472a95f762527ee",
            "4f4c2687a73f4604aff959ef1f1518da",
            "70c881a499bd4512afba797f0174b744",
            "f04e00397d70417cb6e1fb3aea019f3b",
            "128c5c4bd63d4bf4a2509418eeb5ecac",
            "1ca49fe6a3ad49cf860246f53dcccce3",
            "9b1210ce4d4b4ebb8c21e586bfc7cff8",
            "0006746d31274e0aa9fbd1cfffe22277",
            "7037f48133fd4ab1872028ed694fe378",
            "d62a159c4ac84aa2b809c92367db25de",
            "259227a702e44bb8a75c9a168a40c759",
            "43ef7988730f4435a470edb497e35308",
            "0cc4fa2ff4a5469fb22221aac43ae3db",
            "57370dde5e8547a9b5057ae563338c50",
            "25865761d02f40e4a2371a1c7c6dc85c",
            "6d5675447da24692bdcfa3013cc714c6",
            "7ce4ee3e8a834f8b865ff9eaf5936d7d",
            "4b2914c622b347088b1c20f32a57b484",
            "201268a782b34f5a85aad02d15446254",
            "1ea27bcd2e0f4ba0bf591f63285d3c4d",
            "1f3275991c7447a7a6423ba6456fdf2c",
            "26ecf39e0c2e4f10b8723e339dc9f376",
            "720e8914d9114dcca99b65843756e2a1",
            "698dbbddddba4d5e8fc629be1599dee0",
            "33b9c47624144a4f884aaf0c6d9fea46",
            "7c8396cfef664bb08a2913d012e7e9a3",
            "dccef85c6f984db896abb69d7e75b153",
            "b144e81bfb954c528227f761d0de5fbb",
            "a0c7093fa44e4dbfa6e0eab0ebdbbf58",
            "fc0355d67aaa4d4ab0eaeb70eaf33b83",
            "aa8fac4a4ade4177a810c8d7e7294ad1",
            "e6924ab9489b41aca14c286c456c4e43",
            "18e7678daf3e4394a3e01adab47f9a83"
          ]
        },
        "id": "DDdFVf7nMB-3",
        "outputId": "c13ef871-c0bb-401b-a7a0-7f489ea561c7"
      },
      "execution_count": 2,
      "outputs": [
        {
          "output_type": "display_data",
          "data": {
            "application/vnd.jupyter.widget-view+json": {
              "model_id": "5110cf57eeda4ca4bfd46002157d5115",
              "version_minor": 0,
              "version_major": 2
            },
            "text/plain": [
              "Downloading:   0%|          | 0.00/570 [00:00<?, ?B/s]"
            ]
          },
          "metadata": {}
        },
        {
          "output_type": "display_data",
          "data": {
            "application/vnd.jupyter.widget-view+json": {
              "model_id": "976a188fc8544c36981c1da94f719e9a",
              "version_minor": 0,
              "version_major": 2
            },
            "text/plain": [
              "Downloading:   0%|          | 0.00/511M [00:00<?, ?B/s]"
            ]
          },
          "metadata": {}
        },
        {
          "output_type": "stream",
          "name": "stderr",
          "text": [
            "All model checkpoint layers were used when initializing TFBertForSequenceClassification.\n",
            "\n",
            "Some layers of TFBertForSequenceClassification were not initialized from the model checkpoint at bert-base-uncased and are newly initialized: ['classifier']\n",
            "You should probably TRAIN this model on a down-stream task to be able to use it for predictions and inference.\n"
          ]
        },
        {
          "output_type": "display_data",
          "data": {
            "application/vnd.jupyter.widget-view+json": {
              "model_id": "3a3077b7340d4d56a472a95f762527ee",
              "version_minor": 0,
              "version_major": 2
            },
            "text/plain": [
              "Downloading:   0%|          | 0.00/226k [00:00<?, ?B/s]"
            ]
          },
          "metadata": {}
        },
        {
          "output_type": "display_data",
          "data": {
            "application/vnd.jupyter.widget-view+json": {
              "model_id": "43ef7988730f4435a470edb497e35308",
              "version_minor": 0,
              "version_major": 2
            },
            "text/plain": [
              "Downloading:   0%|          | 0.00/28.0 [00:00<?, ?B/s]"
            ]
          },
          "metadata": {}
        },
        {
          "output_type": "display_data",
          "data": {
            "application/vnd.jupyter.widget-view+json": {
              "model_id": "720e8914d9114dcca99b65843756e2a1",
              "version_minor": 0,
              "version_major": 2
            },
            "text/plain": [
              "Downloading:   0%|          | 0.00/455k [00:00<?, ?B/s]"
            ]
          },
          "metadata": {}
        }
      ]
    },
    {
      "cell_type": "code",
      "source": [
        "model.summary()"
      ],
      "metadata": {
        "colab": {
          "base_uri": "https://localhost:8080/"
        },
        "id": "1jyMHmfPMJjD",
        "outputId": "e3e3d179-9254-48a6-e0d2-ea99f23ce30d"
      },
      "execution_count": 3,
      "outputs": [
        {
          "output_type": "stream",
          "name": "stdout",
          "text": [
            "Model: \"tf_bert_for_sequence_classification\"\n",
            "_________________________________________________________________\n",
            " Layer (type)                Output Shape              Param #   \n",
            "=================================================================\n",
            " bert (TFBertMainLayer)      multiple                  109482240 \n",
            "                                                                 \n",
            " dropout_37 (Dropout)        multiple                  0         \n",
            "                                                                 \n",
            " classifier (Dense)          multiple                  1538      \n",
            "                                                                 \n",
            "=================================================================\n",
            "Total params: 109,483,778\n",
            "Trainable params: 109,483,778\n",
            "Non-trainable params: 0\n",
            "_________________________________________________________________\n"
          ]
        }
      ]
    },
    {
      "cell_type": "markdown",
      "source": [
        "## Downloading data (IMDB Dataset)"
      ],
      "metadata": {
        "id": "eCchWqCUOZSn"
      }
    },
    {
      "cell_type": "code",
      "source": [
        "import tensorflow as tf\n",
        "import pandas as pd\n",
        "\n",
        "URL = \"https://ai.stanford.edu/~amaas/data/sentiment/aclImdb_v1.tar.gz\"\n",
        "\n",
        "dataset = tf.keras.utils.get_file(fname=\"aclImdb_v1.tar.gz\", \n",
        "                                  origin=URL,\n",
        "                                  untar=True,\n",
        "                                  cache_dir='.',\n",
        "                                  cache_subdir='')"
      ],
      "metadata": {
        "colab": {
          "base_uri": "https://localhost:8080/"
        },
        "id": "PeDzJs0_MMvu",
        "outputId": "295ca11a-822b-4c0e-82f5-72c199aa75ad"
      },
      "execution_count": 4,
      "outputs": [
        {
          "output_type": "stream",
          "name": "stdout",
          "text": [
            "Downloading data from https://ai.stanford.edu/~amaas/data/sentiment/aclImdb_v1.tar.gz\n",
            "84131840/84125825 [==============================] - 3s 0us/step\n",
            "84140032/84125825 [==============================] - 3s 0us/step\n"
          ]
        }
      ]
    },
    {
      "cell_type": "code",
      "source": [
        "import os\n",
        "import shutil\n",
        "\n",
        "main_dir = os.path.join(os.path.dirname(dataset), 'aclImdb')\n",
        "train_dir = os.path.join(main_dir, 'train')\n",
        "remove_dir = os.path.join(train_dir, 'unsup')\n",
        "shutil.rmtree(remove_dir)\n",
        "print(os.listdir(train_dir))"
      ],
      "metadata": {
        "colab": {
          "base_uri": "https://localhost:8080/"
        },
        "id": "Wqit_PMhMW2w",
        "outputId": "d267efc9-1729-4b29-901d-3f1fc247dd43"
      },
      "execution_count": 5,
      "outputs": [
        {
          "output_type": "stream",
          "name": "stdout",
          "text": [
            "['urls_neg.txt', 'pos', 'labeledBow.feat', 'urls_unsup.txt', 'unsupBow.feat', 'neg', 'urls_pos.txt']\n"
          ]
        }
      ]
    },
    {
      "cell_type": "markdown",
      "source": [
        "## Train/Test split"
      ],
      "metadata": {
        "id": "Dka3A8_YOdc8"
      }
    },
    {
      "cell_type": "code",
      "source": [
        "train = tf.keras.preprocessing.text_dataset_from_directory(\n",
        "    'aclImdb/train', batch_size=30000, validation_split=0.2, \n",
        "    subset='training', seed=123)\n",
        "test = tf.keras.preprocessing.text_dataset_from_directory(\n",
        "    'aclImdb/train', batch_size=30000, validation_split=0.2, \n",
        "    subset='validation', seed=123)\n"
      ],
      "metadata": {
        "colab": {
          "base_uri": "https://localhost:8080/"
        },
        "id": "czZaRN7JMaUW",
        "outputId": "dcaddd22-8b23-456a-fd4e-a0a995c4bbc2"
      },
      "execution_count": 6,
      "outputs": [
        {
          "output_type": "stream",
          "name": "stdout",
          "text": [
            "Found 25000 files belonging to 2 classes.\n",
            "Using 20000 files for training.\n",
            "Found 25000 files belonging to 2 classes.\n",
            "Using 5000 files for validation.\n"
          ]
        }
      ]
    },
    {
      "cell_type": "code",
      "source": [
        "for i in train.take(1):\n",
        "  train_feat = i[0].numpy()\n",
        "  train_lab = i[1].numpy()\n",
        "\n",
        "train = pd.DataFrame([train_feat, train_lab]).T\n",
        "train.columns = ['DATA_COLUMN', 'LABEL_COLUMN']\n",
        "train['DATA_COLUMN'] = train['DATA_COLUMN'].str.decode(\"utf-8\")\n",
        "train.head()"
      ],
      "metadata": {
        "colab": {
          "base_uri": "https://localhost:8080/",
          "height": 991
        },
        "id": "3k1aLyECNJ7P",
        "outputId": "653538bb-212c-460b-c2f7-9e8c15146152"
      },
      "execution_count": 7,
      "outputs": [
        {
          "output_type": "execute_result",
          "data": {
            "text/html": [
              "\n",
              "  <div id=\"df-f1561c1a-3116-4150-a26d-4d94cec476f6\">\n",
              "    <div class=\"colab-df-container\">\n",
              "      <div>\n",
              "<style scoped>\n",
              "    .dataframe tbody tr th:only-of-type {\n",
              "        vertical-align: middle;\n",
              "    }\n",
              "\n",
              "    .dataframe tbody tr th {\n",
              "        vertical-align: top;\n",
              "    }\n",
              "\n",
              "    .dataframe thead th {\n",
              "        text-align: right;\n",
              "    }\n",
              "</style>\n",
              "<table border=\"1\" class=\"dataframe\">\n",
              "  <thead>\n",
              "    <tr style=\"text-align: right;\">\n",
              "      <th></th>\n",
              "      <th>DATA_COLUMN</th>\n",
              "      <th>LABEL_COLUMN</th>\n",
              "    </tr>\n",
              "  </thead>\n",
              "  <tbody>\n",
              "    <tr>\n",
              "      <th>0</th>\n",
              "      <td>Canadian director Vincenzo Natali took the art...</td>\n",
              "      <td>1</td>\n",
              "    </tr>\n",
              "    <tr>\n",
              "      <th>1</th>\n",
              "      <td>I gave this film 10 not because it is a superb...</td>\n",
              "      <td>1</td>\n",
              "    </tr>\n",
              "    <tr>\n",
              "      <th>2</th>\n",
              "      <td>I admit to being somewhat jaded about the movi...</td>\n",
              "      <td>1</td>\n",
              "    </tr>\n",
              "    <tr>\n",
              "      <th>3</th>\n",
              "      <td>For a long time, 'The Menagerie' was my favori...</td>\n",
              "      <td>1</td>\n",
              "    </tr>\n",
              "    <tr>\n",
              "      <th>4</th>\n",
              "      <td>A truly frightening film. Feels as if it were ...</td>\n",
              "      <td>0</td>\n",
              "    </tr>\n",
              "  </tbody>\n",
              "</table>\n",
              "</div>\n",
              "      <button class=\"colab-df-convert\" onclick=\"convertToInteractive('df-f1561c1a-3116-4150-a26d-4d94cec476f6')\"\n",
              "              title=\"Convert this dataframe to an interactive table.\"\n",
              "              style=\"display:none;\">\n",
              "        \n",
              "  <svg xmlns=\"http://www.w3.org/2000/svg\" height=\"24px\"viewBox=\"0 0 24 24\"\n",
              "       width=\"24px\">\n",
              "    <path d=\"M0 0h24v24H0V0z\" fill=\"none\"/>\n",
              "    <path d=\"M18.56 5.44l.94 2.06.94-2.06 2.06-.94-2.06-.94-.94-2.06-.94 2.06-2.06.94zm-11 1L8.5 8.5l.94-2.06 2.06-.94-2.06-.94L8.5 2.5l-.94 2.06-2.06.94zm10 10l.94 2.06.94-2.06 2.06-.94-2.06-.94-.94-2.06-.94 2.06-2.06.94z\"/><path d=\"M17.41 7.96l-1.37-1.37c-.4-.4-.92-.59-1.43-.59-.52 0-1.04.2-1.43.59L10.3 9.45l-7.72 7.72c-.78.78-.78 2.05 0 2.83L4 21.41c.39.39.9.59 1.41.59.51 0 1.02-.2 1.41-.59l7.78-7.78 2.81-2.81c.8-.78.8-2.07 0-2.86zM5.41 20L4 18.59l7.72-7.72 1.47 1.35L5.41 20z\"/>\n",
              "  </svg>\n",
              "      </button>\n",
              "      \n",
              "  <style>\n",
              "    .colab-df-container {\n",
              "      display:flex;\n",
              "      flex-wrap:wrap;\n",
              "      gap: 12px;\n",
              "    }\n",
              "\n",
              "    .colab-df-convert {\n",
              "      background-color: #E8F0FE;\n",
              "      border: none;\n",
              "      border-radius: 50%;\n",
              "      cursor: pointer;\n",
              "      display: none;\n",
              "      fill: #1967D2;\n",
              "      height: 32px;\n",
              "      padding: 0 0 0 0;\n",
              "      width: 32px;\n",
              "    }\n",
              "\n",
              "    .colab-df-convert:hover {\n",
              "      background-color: #E2EBFA;\n",
              "      box-shadow: 0px 1px 2px rgba(60, 64, 67, 0.3), 0px 1px 3px 1px rgba(60, 64, 67, 0.15);\n",
              "      fill: #174EA6;\n",
              "    }\n",
              "\n",
              "    [theme=dark] .colab-df-convert {\n",
              "      background-color: #3B4455;\n",
              "      fill: #D2E3FC;\n",
              "    }\n",
              "\n",
              "    [theme=dark] .colab-df-convert:hover {\n",
              "      background-color: #434B5C;\n",
              "      box-shadow: 0px 1px 3px 1px rgba(0, 0, 0, 0.15);\n",
              "      filter: drop-shadow(0px 1px 2px rgba(0, 0, 0, 0.3));\n",
              "      fill: #FFFFFF;\n",
              "    }\n",
              "  </style>\n",
              "\n",
              "      <script>\n",
              "        const buttonEl =\n",
              "          document.querySelector('#df-f1561c1a-3116-4150-a26d-4d94cec476f6 button.colab-df-convert');\n",
              "        buttonEl.style.display =\n",
              "          google.colab.kernel.accessAllowed ? 'block' : 'none';\n",
              "\n",
              "        async function convertToInteractive(key) {\n",
              "          const element = document.querySelector('#df-f1561c1a-3116-4150-a26d-4d94cec476f6');\n",
              "          const dataTable =\n",
              "            await google.colab.kernel.invokeFunction('convertToInteractive',\n",
              "                                                     [key], {});\n",
              "          if (!dataTable) return;\n",
              "\n",
              "          const docLinkHtml = 'Like what you see? Visit the ' +\n",
              "            '<a target=\"_blank\" href=https://colab.research.google.com/notebooks/data_table.ipynb>data table notebook</a>'\n",
              "            + ' to learn more about interactive tables.';\n",
              "          element.innerHTML = '';\n",
              "          dataTable['output_type'] = 'display_data';\n",
              "          await google.colab.output.renderOutput(dataTable, element);\n",
              "          const docLink = document.createElement('div');\n",
              "          docLink.innerHTML = docLinkHtml;\n",
              "          element.appendChild(docLink);\n",
              "        }\n",
              "      </script>\n",
              "    </div>\n",
              "  </div>\n",
              "  "
            ],
            "text/plain": [
              "                                         DATA_COLUMN LABEL_COLUMN\n",
              "0  Canadian director Vincenzo Natali took the art...            1\n",
              "1  I gave this film 10 not because it is a superb...            1\n",
              "2  I admit to being somewhat jaded about the movi...            1\n",
              "3  For a long time, 'The Menagerie' was my favori...            1\n",
              "4  A truly frightening film. Feels as if it were ...            0"
            ]
          },
          "metadata": {},
          "execution_count": 7
        }
      ]
    },
    {
      "cell_type": "code",
      "source": [
        "for j in test.take(1):\n",
        "  test_feat = j[0].numpy()\n",
        "  test_lab = j[1].numpy()\n",
        "\n",
        "test = pd.DataFrame([test_feat, test_lab]).T\n",
        "test.columns = ['DATA_COLUMN', 'LABEL_COLUMN']\n",
        "test['DATA_COLUMN'] = test['DATA_COLUMN'].str.decode(\"utf-8\")\n",
        "test.head()"
      ],
      "metadata": {
        "colab": {
          "base_uri": "https://localhost:8080/",
          "height": 206
        },
        "id": "iwl9FP8dZYkK",
        "outputId": "76dd3d4b-9f85-4fb9-e401-84d89e2492c2"
      },
      "execution_count": 8,
      "outputs": [
        {
          "output_type": "execute_result",
          "data": {
            "text/html": [
              "\n",
              "  <div id=\"df-3921f37e-f7c5-4979-a857-ea5a149ef03e\">\n",
              "    <div class=\"colab-df-container\">\n",
              "      <div>\n",
              "<style scoped>\n",
              "    .dataframe tbody tr th:only-of-type {\n",
              "        vertical-align: middle;\n",
              "    }\n",
              "\n",
              "    .dataframe tbody tr th {\n",
              "        vertical-align: top;\n",
              "    }\n",
              "\n",
              "    .dataframe thead th {\n",
              "        text-align: right;\n",
              "    }\n",
              "</style>\n",
              "<table border=\"1\" class=\"dataframe\">\n",
              "  <thead>\n",
              "    <tr style=\"text-align: right;\">\n",
              "      <th></th>\n",
              "      <th>DATA_COLUMN</th>\n",
              "      <th>LABEL_COLUMN</th>\n",
              "    </tr>\n",
              "  </thead>\n",
              "  <tbody>\n",
              "    <tr>\n",
              "      <th>0</th>\n",
              "      <td>I can't believe that so much talent can be was...</td>\n",
              "      <td>0</td>\n",
              "    </tr>\n",
              "    <tr>\n",
              "      <th>1</th>\n",
              "      <td>This movie blows - let's get that straight rig...</td>\n",
              "      <td>0</td>\n",
              "    </tr>\n",
              "    <tr>\n",
              "      <th>2</th>\n",
              "      <td>The saddest thing about this \"tribute\" is that...</td>\n",
              "      <td>0</td>\n",
              "    </tr>\n",
              "    <tr>\n",
              "      <th>3</th>\n",
              "      <td>I'm only rating this film as a 3 out of pity b...</td>\n",
              "      <td>0</td>\n",
              "    </tr>\n",
              "    <tr>\n",
              "      <th>4</th>\n",
              "      <td>Something surprised me about this movie - it w...</td>\n",
              "      <td>1</td>\n",
              "    </tr>\n",
              "  </tbody>\n",
              "</table>\n",
              "</div>\n",
              "      <button class=\"colab-df-convert\" onclick=\"convertToInteractive('df-3921f37e-f7c5-4979-a857-ea5a149ef03e')\"\n",
              "              title=\"Convert this dataframe to an interactive table.\"\n",
              "              style=\"display:none;\">\n",
              "        \n",
              "  <svg xmlns=\"http://www.w3.org/2000/svg\" height=\"24px\"viewBox=\"0 0 24 24\"\n",
              "       width=\"24px\">\n",
              "    <path d=\"M0 0h24v24H0V0z\" fill=\"none\"/>\n",
              "    <path d=\"M18.56 5.44l.94 2.06.94-2.06 2.06-.94-2.06-.94-.94-2.06-.94 2.06-2.06.94zm-11 1L8.5 8.5l.94-2.06 2.06-.94-2.06-.94L8.5 2.5l-.94 2.06-2.06.94zm10 10l.94 2.06.94-2.06 2.06-.94-2.06-.94-.94-2.06-.94 2.06-2.06.94z\"/><path d=\"M17.41 7.96l-1.37-1.37c-.4-.4-.92-.59-1.43-.59-.52 0-1.04.2-1.43.59L10.3 9.45l-7.72 7.72c-.78.78-.78 2.05 0 2.83L4 21.41c.39.39.9.59 1.41.59.51 0 1.02-.2 1.41-.59l7.78-7.78 2.81-2.81c.8-.78.8-2.07 0-2.86zM5.41 20L4 18.59l7.72-7.72 1.47 1.35L5.41 20z\"/>\n",
              "  </svg>\n",
              "      </button>\n",
              "      \n",
              "  <style>\n",
              "    .colab-df-container {\n",
              "      display:flex;\n",
              "      flex-wrap:wrap;\n",
              "      gap: 12px;\n",
              "    }\n",
              "\n",
              "    .colab-df-convert {\n",
              "      background-color: #E8F0FE;\n",
              "      border: none;\n",
              "      border-radius: 50%;\n",
              "      cursor: pointer;\n",
              "      display: none;\n",
              "      fill: #1967D2;\n",
              "      height: 32px;\n",
              "      padding: 0 0 0 0;\n",
              "      width: 32px;\n",
              "    }\n",
              "\n",
              "    .colab-df-convert:hover {\n",
              "      background-color: #E2EBFA;\n",
              "      box-shadow: 0px 1px 2px rgba(60, 64, 67, 0.3), 0px 1px 3px 1px rgba(60, 64, 67, 0.15);\n",
              "      fill: #174EA6;\n",
              "    }\n",
              "\n",
              "    [theme=dark] .colab-df-convert {\n",
              "      background-color: #3B4455;\n",
              "      fill: #D2E3FC;\n",
              "    }\n",
              "\n",
              "    [theme=dark] .colab-df-convert:hover {\n",
              "      background-color: #434B5C;\n",
              "      box-shadow: 0px 1px 3px 1px rgba(0, 0, 0, 0.15);\n",
              "      filter: drop-shadow(0px 1px 2px rgba(0, 0, 0, 0.3));\n",
              "      fill: #FFFFFF;\n",
              "    }\n",
              "  </style>\n",
              "\n",
              "      <script>\n",
              "        const buttonEl =\n",
              "          document.querySelector('#df-3921f37e-f7c5-4979-a857-ea5a149ef03e button.colab-df-convert');\n",
              "        buttonEl.style.display =\n",
              "          google.colab.kernel.accessAllowed ? 'block' : 'none';\n",
              "\n",
              "        async function convertToInteractive(key) {\n",
              "          const element = document.querySelector('#df-3921f37e-f7c5-4979-a857-ea5a149ef03e');\n",
              "          const dataTable =\n",
              "            await google.colab.kernel.invokeFunction('convertToInteractive',\n",
              "                                                     [key], {});\n",
              "          if (!dataTable) return;\n",
              "\n",
              "          const docLinkHtml = 'Like what you see? Visit the ' +\n",
              "            '<a target=\"_blank\" href=https://colab.research.google.com/notebooks/data_table.ipynb>data table notebook</a>'\n",
              "            + ' to learn more about interactive tables.';\n",
              "          element.innerHTML = '';\n",
              "          dataTable['output_type'] = 'display_data';\n",
              "          await google.colab.output.renderOutput(dataTable, element);\n",
              "          const docLink = document.createElement('div');\n",
              "          docLink.innerHTML = docLinkHtml;\n",
              "          element.appendChild(docLink);\n",
              "        }\n",
              "      </script>\n",
              "    </div>\n",
              "  </div>\n",
              "  "
            ],
            "text/plain": [
              "                                         DATA_COLUMN LABEL_COLUMN\n",
              "0  I can't believe that so much talent can be was...            0\n",
              "1  This movie blows - let's get that straight rig...            0\n",
              "2  The saddest thing about this \"tribute\" is that...            0\n",
              "3  I'm only rating this film as a 3 out of pity b...            0\n",
              "4  Something surprised me about this movie - it w...            1"
            ]
          },
          "metadata": {},
          "execution_count": 8
        }
      ]
    },
    {
      "cell_type": "code",
      "source": [
        "train.iloc[1]['DATA_COLUMN']"
      ],
      "metadata": {
        "colab": {
          "base_uri": "https://localhost:8080/",
          "height": 105
        },
        "id": "hawYG577Nnft",
        "outputId": "4580023d-fdcb-4ab5-d463-e25f133bfd90"
      },
      "execution_count": 9,
      "outputs": [
        {
          "output_type": "execute_result",
          "data": {
            "application/vnd.google.colaboratory.intrinsic+json": {
              "type": "string"
            },
            "text/plain": [
              "\"I gave this film 10 not because it is a superbly consistent movie, but for it's pure ability to evoke emotions in its audience. The story of one-woman's-struggle-against-all-odds is an old cliché by now, but very few films have carried it off with so much warmth and sincerity as The Color Purple.<br /><br />It also showed a different side to the African-American experience - showing that after slaves were granted freedom many fell into the ways of the hated 'white man' and were abusive of their own people. I find this an important point as it goes against the portray-white-on-black-violence-and-win-an-Oscar trend.<br /><br />Also the acting performances are superb - especially Oprah who I now have a new found respect for.<br /><br />Well worth watching - but keep some tissue handy.\""
            ]
          },
          "metadata": {},
          "execution_count": 9
        }
      ]
    },
    {
      "cell_type": "code",
      "source": [
        "test.iloc[1]['DATA_COLUMN']"
      ],
      "metadata": {
        "colab": {
          "base_uri": "https://localhost:8080/",
          "height": 122
        },
        "id": "VxaYQ0GQOiRB",
        "outputId": "9ad40ddd-021d-4692-f310-dfe62667961f"
      },
      "execution_count": 41,
      "outputs": [
        {
          "output_type": "execute_result",
          "data": {
            "application/vnd.google.colaboratory.intrinsic+json": {
              "type": "string"
            },
            "text/plain": [
              "'This movie blows - let\\'s get that straight right now. There are a few scene gems nestled inside this pile of crap but none can redeem the limp plot. Colin Farrel looks like Brad Pitt in \"12 Monkeys\" and acts in a similar manner. I normally hate Colin because he is a fairy in general but he\\'s OK in this movie. There were two plot lines in this movie-= one about a kid who throws rocks through windshields of moving vehicles and the other about a woman with a moustache. Let\\'s face it- this movie has no freaking idea of what it wanted to say or where it wanted to go. THe characters story lines intertwine on some levels but are in no means worthy of being included in a script. The whole thing is weak and pointless and then there is an occasional OK scene. But overall- Don\\'t bother unless you love irish accents so much that you can watch mediocrity and it is rescued by everyone sounding like the Lucky Charms elf -an American fetish that has catapulted some truly crappy movies to success.'"
            ]
          },
          "metadata": {},
          "execution_count": 41
        }
      ]
    },
    {
      "cell_type": "code",
      "source": [
        "def convert_data_to_examples(train, test, DATA_COLUMN, LABEL_COLUMN): \n",
        "  train_InputExamples = train.apply(lambda x: InputExample(guid=None, text_a = x[DATA_COLUMN], text_b = None, label = x[LABEL_COLUMN]), axis = 1)\n",
        "  validation_InputExamples = test.apply(lambda x: InputExample(guid=None, text_a = x[DATA_COLUMN], text_b = None, label = x[LABEL_COLUMN]), axis = 1)\n",
        "  \n",
        "  return train_InputExamples, validation_InputExamples\n",
        "  \n",
        "def convert_examples_to_tf_dataset(examples, tokenizer, max_length=128):\n",
        "    features = [] # -> will hold InputFeatures to be converted later\n",
        "\n",
        "    for e in examples:\n",
        "        # Documentation is really strong for this method, so please take a look at it\n",
        "        input_dict = tokenizer.encode_plus(\n",
        "            e.text_a,\n",
        "            add_special_tokens=True,\n",
        "            max_length=max_length, # truncates if len(s) > max_length\n",
        "            return_token_type_ids=True,\n",
        "            return_attention_mask=True,\n",
        "            pad_to_max_length=True, # pads to the right by default # CHECK THIS for pad_to_max_length\n",
        "            truncation=True\n",
        "        )\n",
        "\n",
        "        input_ids, token_type_ids, attention_mask = (input_dict[\"input_ids\"],\n",
        "            input_dict[\"token_type_ids\"], input_dict['attention_mask'])\n",
        "\n",
        "        features.append(\n",
        "            InputFeatures(\n",
        "                input_ids=input_ids, attention_mask=attention_mask, token_type_ids=token_type_ids, label=e.label\n",
        "            )\n",
        "        )\n",
        "\n",
        "    def gen():\n",
        "        for f in features:\n",
        "            yield (\n",
        "                {\n",
        "                    \"input_ids\": f.input_ids,\n",
        "                    \"attention_mask\": f.attention_mask,\n",
        "                    \"token_type_ids\": f.token_type_ids,\n",
        "                },\n",
        "                f.label,\n",
        "            )\n",
        "\n",
        "    return tf.data.Dataset.from_generator(\n",
        "        gen,\n",
        "        ({\"input_ids\": tf.int32, \"attention_mask\": tf.int32, \"token_type_ids\": tf.int32}, tf.int64),\n",
        "        (\n",
        "            {\n",
        "                \"input_ids\": tf.TensorShape([None]),\n",
        "                \"attention_mask\": tf.TensorShape([None]),\n",
        "                \"token_type_ids\": tf.TensorShape([None]),\n",
        "            },\n",
        "            tf.TensorShape([]),\n",
        "        ),\n",
        "    )\n",
        "\n",
        "\n",
        "DATA_COLUMN = 'DATA_COLUMN'\n",
        "LABEL_COLUMN = 'LABEL_COLUMN'"
      ],
      "metadata": {
        "id": "T1IWQdTYUyuK"
      },
      "execution_count": 10,
      "outputs": []
    },
    {
      "cell_type": "code",
      "source": [
        "train_InputExamples, validation_InputExamples = convert_data_to_examples(train, test, DATA_COLUMN, LABEL_COLUMN)\n",
        "\n",
        "train_data = convert_examples_to_tf_dataset(list(train_InputExamples), tokenizer)\n",
        "train_data = train_data.shuffle(100).batch(32).repeat(2)\n",
        "\n",
        "validation_data = convert_examples_to_tf_dataset(list(validation_InputExamples), tokenizer)\n",
        "validation_data = validation_data.batch(32)"
      ],
      "metadata": {
        "colab": {
          "base_uri": "https://localhost:8080/"
        },
        "id": "M9zn1Vv8U3to",
        "outputId": "d7a0105d-0293-47e3-ffbc-5cc79e65e226"
      },
      "execution_count": 11,
      "outputs": [
        {
          "output_type": "stream",
          "name": "stderr",
          "text": [
            "/usr/local/lib/python3.7/dist-packages/transformers/tokenization_utils_base.py:2232: FutureWarning: The `pad_to_max_length` argument is deprecated and will be removed in a future version, use `padding=True` or `padding='longest'` to pad to the longest sequence in the batch, or use `padding='max_length'` to pad to a max length. In this case, you can give a specific length with `max_length` (e.g. `max_length=45`) or leave max_length to None to pad to the maximal input size of the model (e.g. 512 for Bert).\n",
            "  FutureWarning,\n"
          ]
        }
      ]
    },
    {
      "cell_type": "markdown",
      "source": [
        "## Training"
      ],
      "metadata": {
        "id": "uEwgf9i6ONzN"
      }
    },
    {
      "cell_type": "code",
      "source": [
        "model.compile(optimizer=tf.keras.optimizers.Adam(learning_rate=3e-5, epsilon=1e-08, clipnorm=1.0), \n",
        "              loss=tf.keras.losses.SparseCategoricalCrossentropy(from_logits=True), \n",
        "              metrics=[tf.keras.metrics.SparseCategoricalAccuracy('accuracy')])\n",
        "\n",
        "model.fit(train_data, epochs=1, validation_data=validation_data)"
      ],
      "metadata": {
        "colab": {
          "base_uri": "https://localhost:8080/"
        },
        "id": "5YoivHFyZT7r",
        "outputId": "2ea31e39-d32b-4291-ee8d-ae2f94fd1313"
      },
      "execution_count": 12,
      "outputs": [
        {
          "output_type": "stream",
          "name": "stdout",
          "text": [
            "1250/1250 [==============================] - 2072s 2s/step - loss: 0.2686 - accuracy: 0.8850 - val_loss: 0.3415 - val_accuracy: 0.8830\n"
          ]
        },
        {
          "output_type": "execute_result",
          "data": {
            "text/plain": [
              "<keras.callbacks.History at 0x7f2a60278910>"
            ]
          },
          "metadata": {},
          "execution_count": 12
        }
      ]
    },
    {
      "cell_type": "markdown",
      "source": [
        "## Save the model"
      ],
      "metadata": {
        "id": "gg5EomTTOPLp"
      }
    },
    {
      "cell_type": "code",
      "source": [
        "model.save_weights('model_weights', save_format='tf')"
      ],
      "metadata": {
        "id": "3EGRZqn1kIue"
      },
      "execution_count": 13,
      "outputs": []
    },
    {
      "cell_type": "markdown",
      "source": [
        "## Downloading weights and loading up a model."
      ],
      "metadata": {
        "id": "gWIIhXeVN7fF"
      }
    },
    {
      "cell_type": "code",
      "source": [
        "!gdown --id 1oelRnAixYd0ol3C1zupmmIAOEqANPud0"
      ],
      "metadata": {
        "colab": {
          "base_uri": "https://localhost:8080/"
        },
        "id": "uWqY_r5xNllZ",
        "outputId": "4d7d9b2b-b98e-4b9a-ed36-309ab6f573e6"
      },
      "execution_count": 36,
      "outputs": [
        {
          "output_type": "stream",
          "name": "stdout",
          "text": [
            "Downloading...\n",
            "From: https://drive.google.com/uc?id=1oelRnAixYd0ol3C1zupmmIAOEqANPud0\n",
            "To: /content/model_weights.data-00000-of-00001\n",
            "100% 1.31G/1.31G [00:17<00:00, 75.8MB/s]\n"
          ]
        }
      ]
    },
    {
      "cell_type": "code",
      "source": [
        "!gdown --id 1fFwX6ISCZhXjyFxjei-RVYnlJ6LxBw5Y"
      ],
      "metadata": {
        "colab": {
          "base_uri": "https://localhost:8080/"
        },
        "id": "FGAXYnYTMC-o",
        "outputId": "affaf8e3-4a85-4638-8544-6acb655837dc"
      },
      "execution_count": 37,
      "outputs": [
        {
          "output_type": "stream",
          "name": "stdout",
          "text": [
            "Downloading...\n",
            "From: https://drive.google.com/uc?id=1fFwX6ISCZhXjyFxjei-RVYnlJ6LxBw5Y\n",
            "To: /content/model_weights.index\n",
            "\r  0% 0.00/44.1k [00:00<?, ?B/s]\r100% 44.1k/44.1k [00:00<00:00, 41.1MB/s]\n"
          ]
        }
      ]
    },
    {
      "cell_type": "code",
      "source": [
        "from transformers import BertTokenizer, TFBertForSequenceClassification\n",
        "from transformers import InputExample, InputFeatures\n",
        "\n",
        "load_model = TFBertForSequenceClassification.from_pretrained(\"bert-base-uncased\")\n",
        "# tokenizer = BertTokenizer.from_pretrained(\"bert-base-uncased\")\n",
        "\n",
        "load_model.compile(optimizer=tf.keras.optimizers.Adam(learning_rate=3e-5, epsilon=1e-08, clipnorm=1.0), \n",
        "              loss=tf.keras.losses.SparseCategoricalCrossentropy(from_logits=True), \n",
        "              metrics=[tf.keras.metrics.SparseCategoricalAccuracy('accuracy')])\n",
        "load_model.load_weights('model_weights')"
      ],
      "metadata": {
        "colab": {
          "base_uri": "https://localhost:8080/"
        },
        "id": "CikbD-1MnOw-",
        "outputId": "94e18893-8dc6-4ac4-cbcc-ddf64d0291fe"
      },
      "execution_count": 38,
      "outputs": [
        {
          "output_type": "stream",
          "name": "stderr",
          "text": [
            "All model checkpoint layers were used when initializing TFBertForSequenceClassification.\n",
            "\n",
            "Some layers of TFBertForSequenceClassification were not initialized from the model checkpoint at bert-base-uncased and are newly initialized: ['classifier']\n",
            "You should probably TRAIN this model on a down-stream task to be able to use it for predictions and inference.\n"
          ]
        },
        {
          "output_type": "execute_result",
          "data": {
            "text/plain": [
              "<tensorflow.python.training.tracking.util.CheckpointLoadStatus at 0x7f29e9848690>"
            ]
          },
          "metadata": {},
          "execution_count": 38
        }
      ]
    },
    {
      "cell_type": "markdown",
      "source": [
        "## Predicting based on sentences."
      ],
      "metadata": {
        "id": "Biohf06xN_R9"
      }
    },
    {
      "cell_type": "code",
      "source": [
        "pred_sentences = ['This was an awesome movie. I watch it twice my time watching this beautiful movie if I have known it was this good',\n",
        "                  'One of the worst movies of all time. I cannot believe I wasted two hours of my life for this movie',\n",
        "                  'It was interesting at first, main character was beautiful until it got bored and I couldn\\'t watch it no more']"
      ],
      "metadata": {
        "id": "rUGjJvsYIk-a"
      },
      "execution_count": 39,
      "outputs": []
    },
    {
      "cell_type": "code",
      "source": [
        "def predict(sequences):\n",
        "  tf_batch = tokenizer(sequences, max_length=128, padding=True, truncation=True, return_tensors='tf')\n",
        "  tf_outputs = load_model(tf_batch)\n",
        "  tf_predictions = tf.nn.softmax(tf_outputs[0], axis=-1)\n",
        "  labels = ['Negative','Positive']\n",
        "  label = tf.argmax(tf_predictions, axis=1)\n",
        "  label = label.numpy()\n",
        "  for i in range(len(sequences)):\n",
        "    print(sequences[i], \": \\n\", labels[label[i]])"
      ],
      "metadata": {
        "id": "FdExd6C5Hjx6"
      },
      "execution_count": 42,
      "outputs": []
    },
    {
      "cell_type": "code",
      "source": [
        "predict(pred_sentences)"
      ],
      "metadata": {
        "colab": {
          "base_uri": "https://localhost:8080/"
        },
        "id": "Gxp_-xWOKyxs",
        "outputId": "afa13573-f1fe-436f-eed7-e2dc144df23b"
      },
      "execution_count": 43,
      "outputs": [
        {
          "output_type": "stream",
          "name": "stdout",
          "text": [
            "This was an awesome movie. I watch it twice my time watching this beautiful movie if I have known it was this good : \n",
            " Positive\n",
            "One of the worst movies of all time. I cannot believe I wasted two hours of my life for this movie : \n",
            " Negative\n",
            "It was interesting at first, main character was beautiful until it got bored and I couldn't watch it no more : \n",
            " Negative\n"
          ]
        }
      ]
    },
    {
      "cell_type": "code",
      "source": [
        "predict(['hey how are you doing'])"
      ],
      "metadata": {
        "colab": {
          "base_uri": "https://localhost:8080/"
        },
        "id": "LZcQmOmfPHPC",
        "outputId": "78e5ac75-1e4f-4fa7-b615-2e7f099b194e"
      },
      "execution_count": 44,
      "outputs": [
        {
          "output_type": "stream",
          "name": "stdout",
          "text": [
            "hey how are you doing : \n",
            " Positive\n"
          ]
        }
      ]
    },
    {
      "cell_type": "code",
      "source": [
        "predict(['lets talk later'])"
      ],
      "metadata": {
        "colab": {
          "base_uri": "https://localhost:8080/"
        },
        "id": "JRG85BK-PPsA",
        "outputId": "4e1a4dd9-cc4c-4e2c-931b-5767132d7349"
      },
      "execution_count": 45,
      "outputs": [
        {
          "output_type": "stream",
          "name": "stdout",
          "text": [
            "lets talk later : \n",
            " Negative\n"
          ]
        }
      ]
    },
    {
      "cell_type": "markdown",
      "source": [
        "## Predicting sentiment analysis problem of news using api"
      ],
      "metadata": {
        "id": "XkMejPiQRRBz"
      }
    },
    {
      "cell_type": "markdown",
      "source": [
        "### https://newsdata.io/"
      ],
      "metadata": {
        "id": "8W_NjQP-RWDo"
      }
    },
    {
      "cell_type": "code",
      "source": [
        "api_key = 'pub_4061d3b8d6397e4057f769ca86556ad262cf' # gg\n",
        "topic = 'stock market'\n",
        "\n",
        "import requests\n",
        "\n",
        "req = requests.get(f'https://newsdata.io/api/1/news?apikey={api_key}&q={topic}')\n",
        "req"
      ],
      "metadata": {
        "id": "XT2IlPyyPSNn"
      },
      "execution_count": null,
      "outputs": []
    },
    {
      "cell_type": "code",
      "source": [
        "req.json()"
      ],
      "metadata": {
        "id": "5WQGb2jxQTGu"
      },
      "execution_count": null,
      "outputs": []
    },
    {
      "cell_type": "code",
      "source": [
        "contents = [res['content'] for res in req.json()['results'] if res['content']]\n",
        "contents"
      ],
      "metadata": {
        "id": "QVemOULcQUZN"
      },
      "execution_count": null,
      "outputs": []
    },
    {
      "cell_type": "code",
      "source": [
        "predict(contents)"
      ],
      "metadata": {
        "colab": {
          "base_uri": "https://localhost:8080/"
        },
        "id": "xQ-bTrKUQXAu",
        "outputId": "91b8f3d1-ef86-4254-d831-a9371f8768fa"
      },
      "execution_count": 60,
      "outputs": [
        {
          "output_type": "stream",
          "name": "stdout",
          "text": [
            "If you were lucky enough to avoid any investment losses in a bullish 2021, then 2022 has changed your luck. The S&P 500 (SNPINDEX: ^GSPC) is now down more than 9% year-to-date, a move that played out without any warning. And it may well be moving even lower before all is said and done. It's an uncomfortable outcome for veteran investors, while newcomers to the market may be feeling a mix of horror and shellshock.If that's mentally where you are at this point, don't sweat it. Market corrections and the occasional soured trade are nothing unusual, and certainly no reason to give up on investing. However, this may be the right time to suggest changing your tack. Exchange-traded funds (or ETFs) can help curb some of the volatility inherent to owning individual stocks, and these three ETFs in particular can offer even more stability.It's a painfully obvious option, but the Invesco S&P 500 Low Volatility ETF (NYSEMKT: SPLV) will indeed limit the severity of the swings that might otherwise shake you out of a stock, or shake you out of the market altogether.Continue reading : \n",
            " Negative\n",
            "After being one of the best-performing industries of 2020, renewables have since struggled amid supply chain issues, uncertainty regarding the future of solar subsidies and tax credits, and rising interest rates and inflation.One of the few renewable energy stocks that had been performing well was SolarEdge Technologies (NASDAQ: SEDG). After reporting its Q3 2021 earnings on Nov. 2 2021, shares of SolarEdge proceeded to reach a new intraday all-time high of $389.71 on Nov. 22, 2021. But in just two months, the stock has plummeted over 45% and is currently trading around a 52-week low.Here's why shares of SolarEdge are too good of a deal to pass up, even if the U.S stock market keeps falling.Continue reading : \n",
            " Negative\n",
            "The stock market seemed to get itself back on a more even keel on Thursday morning, seeking to reach some level of stability following massive movements earlier in the week and throughout the month of January. As of 8:15 a.m. ET, futures on the Nasdaq Composite (NASDAQINDEX: ^IXIC) were up a bit more than half a percent, leading other major market benchmarks higher.This has been a busy week for companies releasing earnings, and a couple of Nasdaq-listed stocks made big moves higher as they told investors about how the last few months have gone. Two of the biggest gainers were Xilinx (NASDAQ: XLNX) and Seagate Technology (NASDAQ: STX), both of which have strong ties to the tech industry. Below, you'll find out what each of those two companies said and why shareholders are celebrating.Shares of Xilinx were up more than 6% in premarket trading Thursday morning. The maker of field programmable gate arrays and other semiconductor chips enjoyed strong results and also had good news on its potential acquisition.Continue reading : \n",
            " Positive\n",
            "In the current market sell-off, tech stocks have been taking a beating. The Federal Reserve is poised to raise interest rates several times this year, which is taking a toll on the stock market. An old saying in the stock market is \"don't fight the Fed,\" which means investors should be careful when the Federal Reserve is raising rates.In a rising-rate environment, growth stocks generally suffer since most of their value is based on future expectations, and rising rates undercut the present value of those expectations. Here is one growth stock that has seen a correction, though its long-term story remains intact. Image source: Getty Images.Continue reading : \n",
            " Positive\n",
            "It's easy to invest in the stock market when it's consistently moving higher, and for the most part, that's been the case since the pandemic market bottom in March 2020. But the market has been especially volatile since November 2021, particularly in the technology sector.Many individual tech stocks have collapsed by 50% or more, plunging them deep into bear-market territory. But there's a handful of high-quality names that consistently outperform and two that are especially worth buying when uncertainty takes hold.Image source: Getty Images.Continue reading : \n",
            " Positive\n",
            "So far, 2022 has not been friendly to the stock market. Pricey growth stocks have been crashing for months, and now the major indexes are starting to drop. This isn't a market crash yet, but there's a lot of pandemic-era excess that needs to be wrung out. Something like this was bound to happen sooner or later.For long-term investors, a market crash is nothing more than a buying opportunity. It's always good to have a watch list of stocks you'd like to buy at lower prices. Three stocks that stand out to me right now are Boston Beer (NYSE: SAM), Cloudflare (NYSE: NET), and Best Buy (NYSE: BBY).Image source: Getty Images.Continue reading : \n",
            " Negative\n"
          ]
        }
      ]
    },
    {
      "cell_type": "code",
      "source": [
        "topic = 'economy'\n",
        "req = requests.get(f'https://newsdata.io/api/1/news?apikey={api_key}&q={topic}&page=4')\n",
        "contents = [res['content'] for res in req.json()['results'] if res['content']]\n",
        "contents"
      ],
      "metadata": {
        "id": "4kgok-5hRNhb"
      },
      "execution_count": null,
      "outputs": []
    },
    {
      "cell_type": "code",
      "source": [
        "predict(contents)"
      ],
      "metadata": {
        "colab": {
          "base_uri": "https://localhost:8080/"
        },
        "id": "azE06pggSmBV",
        "outputId": "a72eb137-f228-4002-e164-678116052ffc"
      },
      "execution_count": 67,
      "outputs": [
        {
          "output_type": "stream",
          "name": "stdout",
          "text": [
            "As we near the end of the first month of a new year, the stock market is experiencing a lot of turmoil. 2021 was a huge recovery year after the 2020 crash, and the market ended on a high, with the S&P 500 up 26.9%. Those gains have not been repeated -- so far -- in 2022, and the S&P 500 is down about 7% as of midday on Jan. 26.There are a number of reasons for investors to worry. High on the list is the omicron coronavirus variant, which is still wending its way through the world and shutting down many parts of the economy. Another factor is premium valuations on growth stocks, whose prices are falling more in line with their real growth prospects. Their prices are also falling on concerns about the Federal Reserve raising interest rates this year to combat inflation. Higher rates affect growth-focused companies' ability to raise cheap capital to fund their expansion.Image source: The Motley Fool.Continue reading : \n",
            " Positive\n",
            "It was a dismal year for the British auto industry, with the worst production numbers since 1956 Fewer than 860,000 vehicles rolled off British production lines last year, the lowest level in 65 years, as factories slowed down or stopped work due to a severe shortage of semiconductors. Other factors affecting production included widespread staff absences as workers were forced to go into isolation, the Society of Motor Manufacturers and Traders (SMTT) said. According to the SMTT, total car production was 6.7% lower than in 2020 and 34% below pre-pandemic levels. Covid-19 disruptions triggered a global shortage of semiconductor chips, leading to an even worse 2021, it said. Semiconductors are a vital part of modern cars, with each vehicle typically having between 1,500 and 3,000 chips to operate. The trade group’s chief executive Mike Hawes described 2021 as “a dismal year,” adding that “there's no hiding it.” However, he suggested that despite the miserable year there is optimism, largely because of almost £5 billion in planned new investments by the automotive industry, many of them in electric vehicles or technology.  READ MORE: Ford to become first US automaker to mandate vaccines for 30,000+ workers Hawes said the industry had managed to cope with the extra costs of Brexit, but warned that it still faces a growing challenge from a spike in energy costs of up to 70%. According to him, the industry urgently needed “measures to mitigate the escalating energy costs which are threatening viability,” because higher costs “will flow through to prices,” adding to pressure on consumers. For more stories on economy & finance visit RT's business section : \n",
            " Negative\n",
            "KANGAR, Jan 27 — The development of the Perlis Inland Port (PIP) coupled with Perlis’ position near the Thai border is expected to facilitate increased cross-border trade between Malaysia and Thailand, said the Northern Corridor Economic Region (NCER).In a statement today, NCER said the Northern Corridor Implementation Authority’s (NCIA) development of the port will directly catalyse the transition of Perlis from an agronomic state to a border state economy and accelerate socio-economic recovery in the northern state.The PIP is a public-private partnership project that will be the anchor logistic hub for the integrated development in Chuping Valley and cargoes from southern Thailand, further strengthening the Chuping Valley Industrial Area (CVIA), NCER AgriBio Economic Zone (NAEZ), and Chuping Agro Valley (CAV) projects.“NCIA will develop the external infrastructure (bonded road, railway spur line and flyover) while the development of the port itself will be undertaken by private investors.“The private investors are planning to develop the PIP in three phases, whereby the first phase will comprise of a rail park (three rail sidings, reach stackers and open yards) and logistic park (pack-houses, warehouses, storages and silos),” said the statement.It added that the construction of the port will start in February 2022 and full operations will commence by 2024, while the logistics park is expected to handle a total capacity of 250,000 twenty-foot equivalent units (TEUs) once Phase 1 is completed.“The Perlis state government is working closely with NCIA to expedite the development of this project.“The PIP is well-positioned to strengthen and further safeguard the competitiveness of Malaysia’s northern trade border in anticipation of other developments in the region,” said Perlis Menteri Besar Datuk Seri Azlan Man after chairing the first State Steering Committee meeting for 2022, here, today.The Menteri Besar also said the development of the port is expected to place Perlis on the right track towards strong overall growth in 2022.NCIA chief executive Datuk Seri Jebasingam Issace John also noted the importance for the NCER to strengthen its border town logistics infrastructure and complementing services.“The development of the PIP and the upgrading of Penang Port must be carried out as planned to leverage on first-mover advantage,” he said.According to the statement, the CVIA, which is also strategically located near the Thai border, will leverage the regional cooperation of the Indonesia-Malaysia-Thailand Growth Triangle (IMT-GT) and boost the development of the area with various commercial activities that are innovation-based, knowledge-intensive investments within the high-growth and high-value sectors.“To date, with the industry ecosystem development and integration already in place in CVIA, more than RM2.5 billion in committed investments have been achieved and 1,870 job opportunities created.“A further RM449 million in investments and 850 jobs are in the pipeline from domestic and foreign innovation-based and knowledge-intensive anchor investors,” said NCER.The construction of CVIA’s Phase 1 development is on track with 100 per cent sectional completion targeted by October 2022, it added. — Bernama : \n",
            " Positive\n",
            "ShutterstockScott Morrison will announce $1 billion over nine years for ground and water programs for the Great Barrier Reef when he visits the area on Friday. The Prime Minister said the $1 billion would extend the federal government’s investment under the Reef 2050 Plan to more than $3 billion. “Funding will support scientists, farmers and traditional owners, backing in very latest marine science while building resilience and reducing threats from pollution in our oceans and predators such as the Crown of Thorns starfish,” he said. “We are backing the health of the reef and the economic future of tourism operators, hospitality providers and Queensland communities that are at the heart of the reef economy.” Read more: 5 major heatwaves in 30 years have turned the Great Barrier Reef into a bleached checkerboard Last year the government successfully fought off an international move to have the reef placed on the list of “in danger” world heritage sites because of the threat climate change posed. The reef has suffered repeated bleaching. After an intense lobbying campaign by Australia the World Heritage Committee decided instead “to observe further developments in the coral reef off the Australian coast closely”. Australia was asked to submit a progress report on planned protective measures. The report is due next month. The timing of the package’s announcement is in the context of Australia’s continuing attempt to convince the committee it is making every effort to preserve the reef. The committee has ordered a scientific inspection of the reef, although no date has been set. Read more: Is Australia really doing enough for the Great Barrier Reef? Why criticisms of UNESCO’s 'in danger' recommendation don’t stack up The World Heritage Committee has ordered a scientific inspection of the reef. Shutterstock The package comprises: $579.9 million for water quality – working with land managers to remediate erosion, improve land condition and reduce nutrient and pesticide runoff $252.9 million for reef management and conservation, including reducing threats from Crown of Thorns Starfish, implementing advanced health monitoring systems and the preventing illegal fishing $92.7 million to research and use world leading reef resilience science and adaptation strategies $74.4 million for traditional owner and community-led projects including species protection, habitat restoration, citizen science programs and marine debris. The Great Barrier Reef is in the Liberal seat of Leichhardt. The seat is marginal although its member, Warren Entsch, has enjoyed a strong personal following. Read more: Not declaring the Great Barrier Reef as 'in danger' only postpones the inevitable Michelle Grattan does not work for, consult, own shares in or receive funding from any company or organisation that would benefit from this article, and has disclosed no relevant affiliations beyond their academic appointment. : \n",
            " Positive\n",
            "This month about as many people have died with COVID in Australia – more than 1,000 – as die in the whole of a bad year from influenza. “Because of extraordinarily high virus transmission, we’re getting more deaths now in this ‘enlightenment’ COVID time than in the ‘dark ages’ time,” says Brendan Crabb, research scientist and director of the Burnet Institute. “On a seven-day average, we are now seeing more than 60 deaths every day, with no sign yet of a decline. Lessons from the UK and US are that without effective controls we may settle on a high baseline toll beyond the Omicron peak that is not much below this.” Yet as deaths suddenly spiked in the last few weeks, attention on them doesn’t seem to have spiked proportionately. The pandemic news of January has been been dominated by the shortage of RATs, supply-chain problems, and pressures on the health system. We have not learned to live with the disruption of Omicron, or as yet to strike the most effective response to it, but we are not, it seems, traumatised by its current death toll. At least, not most of the country. This week Western Australian Premier Mark McGowan justified delaying his plan to open the state border on February 5 by highlighting the deaths elsewhere. “As you’re seeing over east, huge numbers of people are dying,” he said. He’s copped plenty of criticism for his turnaround. In COVID’s early days in Australia, deaths were very much front and centre in public attention. Now, despite a highly vaccinated population and a less lethal variant of the virus, the substantial death numbers are higher than the narrative of late 2021 led us to anticipate. However, they aren’t leaving such a deep imprint on the public consciousness. The earlier dire warnings to the unvaccinated about the risks they ran were absolutely accurate. But the statistics are also showing that many of those dying with COVID were vaccinated. Clearly vaccination is not the be-all-and-end-all it might have sounded. Just as in driving your car, the seat belt offers protection but is not a guarantee of survival in a crash. Anyway, the authorities have quickly changed their messaging from the importance of being doubly vaxxed to the necessity of that booster. Crabb says vaccines are “brilliant” and the most important thing people can do is to have three doses. “But it doesn’t make you bullet-proof, nor protect those around you. Any effective strategy has to be more than vaccines.” On various fronts, Australia’s journey through Omicron has not been managed effectively, which reinforces the already strong argument for a royal commission into how the pandemic in general has been handled. Anthony Albanese this week took his “small target” strategy to the extreme when, appearing at the National Press Club, he was asked whether if he becomes prime minister he would set up a royal commission. The Labor leader declined to commit. There’d need to be an “assessment” of what had been done, he said. He conceded Labor had considered a royal commission, but the matter hadn’t been though its “process”. Albanese mightn’t want to take attention off the RATs shortage and other issues by promising a royal commission. Or perhaps he fears advocating it would open him to Scott Morrison’s again accusing him of playing politics. It could be cast by critics as tit-for-tat for the Abbott government’s royal commissions into its Labor predecessor, notably into the “pink batts” scheme which resulted in many house fires and several deaths. But the case for a commission is overwhelming, especially to inform us about what needs to be done to ready for pandemics in the future. It is needed to investigate all fronts: health, economics and governance. Especially in the early stages of the pandemic, everyone welcomed “health advice” being followed by governments. But the term “health advice” concealed some sharp differences that occurred among experts. These continue today, as we grapple with Omicron. A royal commission would enable better understanding of the debates that have gone on, and go on, within the health establishment, including at the Australian Health Protection Principal Committee (AHPPC), the group of federal and state advisers to the national cabinet. Mostly, differences within that group have been mired in secrecy. Unreadiness and slow reactions have led to some of the serious problems in handling COVID. These have included the initial slow rollout of the vaccines, and latterly the tardiness in obtaining RATs. Political failures account for part of these problems, but what about the bureaucracy? The pink batts royal commission identified faults in the Environment Department. Has the federal Health Department been found wanting in this crisis and what changes are needed? And what about the responses of the state health systems? In general the Australian economy has held up well during the pandemic, and that has been substantially due to government programs. At the same time, some funds have been wasted and an outside investigation would be instructive on how things could be done better if circumstances repeated themselves. A detailed probe into the supply-chain issues could lead to more belts and braces for the future. The debate about governance has been fraught during COVID, which exposed just how much power the states have in the federation. Morrison’s innovation of the “national cabinet” has run side by side with premiers taking their own courses on matters from schools to borders. Critics of the states would have liked to see Morrison able to exercise near-total authority. Conversely, many of Morrison’s critics believe tough premiers were what held the deaths in check for so long. How the federation has operated during COVID and what adaptations are needed would be major issues for a royal commission. And then there’s Australia’s international response. Much attention was on the government’s call for an inquiry into the pandemic’s origins, but what about Australia’s role in a co-ordinated global response? Like Albanese, Morrison’s line is that the time to talk about “reviews or whatever” is not now. But calls for a royal commission are coming from across the political spectrum, ranging from backbench Labor through the crossbench to some on the right in the Coalition, although motives vary and there are differences about timing. Some of those against such an inquiry point to the drawn-out nature of royal commissions. But the investigation would not divert from current efforts and could be staged, reporting progressively. To the argument “not another royal commission”, the answer is that such comprehensive investigations look under the rocks, produce a wealth of information, and concentrate the attention of policymakers. Who would say the royal commissions into banking and aged care were not worth the effort? A royal commission would not take away from Australia’s undoubted successes in dealing with COVID. Rather, it would be a form of insurance, putting us in the best position to confront a possible Mark 2 pandemic. Michelle Grattan does not work for, consult, own shares in or receive funding from any company or organisation that would benefit from this article, and has disclosed no relevant affiliations beyond their academic appointment. : \n",
            " Positive\n",
            "Microsoft India has announced a new skilling initiative that is aimed at helping small and medium businesses (SMBs). The new Microsoft program will provide digital skills to SMBs working in India. The new initiative has been developed considering that SMBs contribute to around 30 percent of India’s GDP and provide employment to over 114 million people. According to Microsoft, these new digital tools will allow small businesses to respond to changes in the market, streamline their organizations, protect against threats and plan for long-term business resiliency. Harish Vellat, Country Head – Small, Medium & Corporate Business, Microsoft India, said, “SMBs have been at the forefront of our country’s economic rebuilding following the pandemic and are facing immense pressure to keep up with the dramatic shift in how we work and live. It is critical that they are equipped with the skills that can help them develop long-term strategies for their business and reimagine new paths for their success. By providing these skill-building resources, we are fulfilling our commitment to creating an inclusive economy and helping SMBs transform and thrive.” What kind of courses will Microsoft provide? Under the new initiative, Microsoft aims to provide flexible skill-building approach via e-learning and online training assets from sources like Microsoft Learn and LinkedIn Learning. Through the resource hub, businesses can explore expertise, technical training, online workshops, and best practices, as well as earn Microsoft certifications on technical courses. The courses will offer digital skills to use technology for customer relationship management (CRM), digital marketing, advertising and branding. Businesses can learn how to use tools that work together to help them keep departments connected, lower overhead costs and maximize efficiency. The employees can be educated about best practices that can help them protect customers’ and employees’ data. In avoiding breaches, these businesses can avoid the associated high costs and reputation loss. Businesses will be able to analyze available data, understand trends and move more quickly using some of the new courses. The initiative will also provide foundational principles in finance, marketing, bootstrapping, selling. The post Microsoft launches new skilling courses for small and medium businesses appeared first on BGR India. : \n",
            " Positive\n",
            "A general view of the city is seen in Yangon in this file picture taken on September 6, 2013. — Reuters pic Follow us on Instagram and subscribe to our Telegram channel for the latest updates. YANGON, Jan 27 — Myanmar has approved US$3.8 billion (RM10.5 billion) in foreign investment since a coup a year ago, its military government said today, owing to what it called a return to stability and confidence in its economic potential.It did not disclose details of the investments, but said the projects approved included US$2.5 billion in a liquefied natural gas power plant. That figure accounted for two-thirds of the overall amount cited.China was the top investor, it said, without disclosing the amount. Myanmar received US$516.4 million from one Japanese firm, a combined US$442.2 million from four Singaporean investments, US$75.5 million from two Thai ventures and US$66.1 million from five South Korean businesses, it said.Myanmar’s economy has nosedived since the army overthrew an elected government and launched a bloody crackdown on opponents, with a struggle to impose order amid widespread civil unrest and armed resistance from pro-democracy militias and ethnic minority rebels.Instability, uncertainty, Western sanctions and concerns about reputation damage have led to a corporate retreat from Myanmar, most notably from its energy sector, historically a lifeline for the military during decades of trade restrictions.Australia’s Woodside Petroleum today joined multinational oil majors Chevron Corp and TotalEnergies in announcing exit plans.The United States yesterday issued a business advisory warning of heightened risks in doing business in Myanmar, especially when the military is involved. The military runs a network of its own businesses dealing in lucrative areas like energy, gemstones mining and teakwood.A joint statement today from the junta’s investment and information ministers said Myanmar had endured economic sabotage by foreign-backed groups and had “largely restored national stability by the second half of 2021.”While some countries discourage doing business with Myanmar “many of our foreign partners choose to work quietly with us, fully recognising Myanmar’s economic potential as well as its unique challenges,” it said.In the 2019-2020 and 2020-2021 fiscal years, Myanmar’s foreign investment fell from US$4.9 billion to US$3.8 billion, data from Myanmar’s Directorate of Investment and Company Administration showed. — Reuters : \n",
            " Positive\n",
            "Singapore will host the Formula One night race for another seven years from 2022 to 2028, organisers said January 27, 2022, after the coronavirus pandemic scuppered the event for two years running. — AFP pic Follow us on Instagram and subscribe to our Telegram channel for the latest updates. SINGAPORE, Jan 27 — Singapore will host the Formula One night race for another seven years from 2022 to 2028, organisers said today, after the coronavirus pandemic scuppered the event for two years running.The street race around the city’s Marina Bay financial district was held 12 times since its debut in 2008 and saw 268,000 spectators in attendance when it was last held in 2019.But the pandemic forced the event out of the calendar in 2020 and 2021 as authorities imposed tough curbs to deal with the virus.Singapore was the first night race in the Formula One calendar, offering a street circuit that runs through the heart of the modern city-state.Organisers said this is the fourth contract renewal for Singapore and the seven-year extension is the longest for the race so far.“This will give Singapore a longer runway to capture pent-up demand as international travel recovers,” Singapore GP and the Singapore Tourism Board said in a joint statement.Singapore is gradually opening up its borders and easing domestic curbs with most of its population fully vaccinated.“We have decided to continue hosting the F1 race for another seven years, after thoroughly evaluating the long-term benefits that a term extension could bring to Singapore,” Transport Minister S Iswaran said.“The Singapore F1 race continues to be a strong focal point for tourists, global events and business meetings.”F1 president and chief executive Stefano Domenicali welcomed the extension of Singapore’s hosting.“Singapore holds a special place on the F1 calendar, and this extension is part of our long-term commitment to continue to grow the sport in Asia,” he said.Singapore’s trade and tourism-reliant economy suffered its worst ever recession in 2020 due to the pandemic but rebounded back to growth last year.The race has generated more than S$1.5 billion (RM4.7 billion) in tourism receipts and attracted more than 550,000 international visitors since 2008, according to organisers. — AFP : \n",
            " Positive\n",
            "BQ Blue’s special research section collates quality and in-depth equity and economy research reports from across India’s top brokerages, asset managers and research agencies. These reports offer BloombergQuint’s subscribers an opportunity to expand their understanding of companies, sectors and the economy.Continue Reading. Read more on Research Reports by BloombergQuint. : \n",
            " Positive\n"
          ]
        }
      ]
    },
    {
      "cell_type": "code",
      "source": [
        "topic = 'covid'\n",
        "req = requests.get(f'https://newsdata.io/api/1/news?apikey={api_key}&q={topic}&page=4')\n",
        "contents = [res['content'] for res in req.json()['results'] if res['content']]\n",
        "predict(contents)"
      ],
      "metadata": {
        "colab": {
          "base_uri": "https://localhost:8080/"
        },
        "id": "YN9UDxu3S9sO",
        "outputId": "3c50f312-51f6-4890-f136-b59b6eba74f8"
      },
      "execution_count": 68,
      "outputs": [
        {
          "output_type": "stream",
          "name": "stdout",
          "text": [
            "The prevalence of Omicron sub-lineage BA.2 is gradually increasing in India, said Sujeet Kumar Singh, Director, National Centre for Disease Control (NCDC), on January 27. Just last week, the UK Health Security Agency flagged the BA.2 sub-variant and designated it as a ‘variant under investigation’. In its latest weekly bulletin, the World Health Organisation noted that a number of countries had reported an increase in the BA.2 sub-variant in the last seven days. Addressing a Health Ministry press briefing in Delhi, Singh said that Omicron sub-variant BA.2 is more prevalent in comparison to the BA.1 variant in India, adding that the BA.3 sub-variant has not been detected in India yet. \"Earlier, the BA.1 variant was dominant among the samples collected from the travellers. Now in community settings, we have found that the BA.2 sub-variant is gradually increasing,\" he said. Talking about increasing cases of Omicron, Singh said that out of the total genome sequencing reports received so far, increasing cases of Omicron have been found in the month of January. Of the total reports received, 1,292 Omicron cases were found in December last year, whereas the number of Delta cases was over 17,000, he said. In January, so far, 9,672 Omicron cases have been found against 4,779 Delta cases. Mainly three states — Maharashtra, Odisha, and West Bengal — have reported the Delta variant on the basis of genome sequencing, said Singh, adding that it does not mean that only the Omicron variant is being reported everywhere. He emphasised that the Delta variant has not gone yet. Unvaccinated higher at-risk Talking about COVID fatalities, he said that the ones who are unvaccinated and people with comorbidities are in the high-risk group. \"Around 64 per cent of those who died in Delhi were from the unvaccinated group with major comorbid population,\" he added. ICMR chief Balram Bhargava said that vaccines have remained beneficial for India. \"Vaccine reduces deaths considerably in the vaccinated population compared to the unvaccinated individuals. Around 95 per cent adult population in the country have received the first vaccine dose, while 74 per cent have been fully vaccinated,\" said Bhargava, as he urged the states lagging behind in vaccination to ramp up the drive. : \n",
            " Negative\n"
          ]
        }
      ]
    },
    {
      "cell_type": "markdown",
      "source": [
        "### Conclusion\n",
        "\n",
        "- Once again, I've decided to use transfer learning, and used BERT Classification model for sentimental analysis, It was successful and I once again enjoyed using powerful architectures without a need to build them myself. This came in handy and works pretty well.\n",
        "\n",
        "-  I've learnt how to save model weights, as this model cannot be saved with a simple .save() method, and also how to load them, I also included this in my github.\n",
        "\n",
        "- I decided to use an API to get some news and tried sentimental analysis on that content, it works very well from my point of eye.\n",
        "\n",
        "- Training takes a while and I'm interested in making faster, simpler models in the future, as there isn't much motivation left after running training loop for 20 minutes every time I wish to test something new."
      ],
      "metadata": {
        "id": "8vLS-q6qTyvK"
      }
    }
  ]
}